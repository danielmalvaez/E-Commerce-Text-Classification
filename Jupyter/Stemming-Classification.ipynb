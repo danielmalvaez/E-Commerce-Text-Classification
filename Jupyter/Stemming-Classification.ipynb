{
 "cells": [
  {
   "cell_type": "markdown",
   "metadata": {},
   "source": [
    "# Clasificación (Stemming)\n",
    "\n",
    "**Descripción :**\n",
    "\n",
    "Dado que ya cuento con mis documentos vectorizados o embebidos, lo que procede es utilizarlos para entrenar un modelo de clasificación. Este notebook contendrá el código para entrenar un modelo de clasificación utilizando los vectores de los documentos stemmizados. Tenemos vectores entrenados por nosotros mismos, vectores dados por word2vec y matriz TF-IDF.\n",
    "\n",
    "Word2Vec form Google : https://code.google.com/archive/p/word2vec/\n",
    "\n",
    "**Resources:**\n",
    "* https://medium.com/swlh/word-embedding-word2vec-with-genism-nltk-and-t-sne-visualization-43eae8ab3e2e\n",
    "* https://radimrehurek.com/gensim/models/word2vec.html\n",
    "\n",
    "**Team:**  \n",
    "* Chaparro Sicardo Tanibeth  \n",
    "* Malváez Flores Axel Daniel"
   ]
  }
 ],
 "metadata": {
  "kernelspec": {
   "display_name": "py",
   "language": "python",
   "name": "python3"
  },
  "language_info": {
   "codemirror_mode": {
    "name": "ipython",
    "version": 3
   },
   "file_extension": ".py",
   "mimetype": "text/x-python",
   "name": "python",
   "nbconvert_exporter": "python",
   "pygments_lexer": "ipython3",
   "version": "3.10.11"
  }
 },
 "nbformat": 4,
 "nbformat_minor": 2
}
