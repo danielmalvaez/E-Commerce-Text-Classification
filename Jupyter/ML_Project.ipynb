{
  "cells": [
    {
      "cell_type": "markdown",
      "metadata": {},
      "source": [
        "# E-commerce text classification\n",
        "\n",
        "**Descripción :**\n",
        "\n",
        "En este proyecto usaremos un data set de descripciones de productos de E-commerce para clasificarlos en 5 categorías. Este es un proyecto desafiante ya que es nuestro primer intento de resolver un problema de clasificación de texto.\n",
        "\n",
        "**Team:**  \n",
        "* Chaparro Sicardo Tanibeth  \n",
        "* Malváez Flores Axel Daniel"
      ]
    },
    {
      "cell_type": "markdown",
      "metadata": {},
      "source": [
        "* Obtención de los datos"
      ]
    },
    {
      "cell_type": "code",
      "execution_count": 27,
      "metadata": {
        "id": "KLMRHzK1ATLI"
      },
      "outputs": [],
      "source": [
        "# Librerías importantes\n",
        "import numpy as np\n",
        "import pandas as pd\n",
        "import matplotlib.pyplot as plt\n",
        "import seaborn as sns\n",
        "\n",
        "sns.set_style('white')"
      ]
    },
    {
      "cell_type": "code",
      "execution_count": 28,
      "metadata": {
        "colab": {
          "base_uri": "https://localhost:8080/",
          "height": 143
        },
        "id": "IiX9ICOmBM3G",
        "outputId": "26481c75-8454-4eae-932d-628f40f18f5b"
      },
      "outputs": [
        {
          "data": {
            "text/html": [
              "<div>\n",
              "<style scoped>\n",
              "    .dataframe tbody tr th:only-of-type {\n",
              "        vertical-align: middle;\n",
              "    }\n",
              "\n",
              "    .dataframe tbody tr th {\n",
              "        vertical-align: top;\n",
              "    }\n",
              "\n",
              "    .dataframe thead th {\n",
              "        text-align: right;\n",
              "    }\n",
              "</style>\n",
              "<table border=\"1\" class=\"dataframe\">\n",
              "  <thead>\n",
              "    <tr style=\"text-align: right;\">\n",
              "      <th></th>\n",
              "      <th>Category</th>\n",
              "      <th>Description</th>\n",
              "    </tr>\n",
              "  </thead>\n",
              "  <tbody>\n",
              "    <tr>\n",
              "      <th>0</th>\n",
              "      <td>Household</td>\n",
              "      <td>Paper Plane Design Framed Wall Hanging Motivat...</td>\n",
              "    </tr>\n",
              "    <tr>\n",
              "      <th>1</th>\n",
              "      <td>Household</td>\n",
              "      <td>SAF 'Floral' Framed Painting (Wood, 30 inch x ...</td>\n",
              "    </tr>\n",
              "    <tr>\n",
              "      <th>2</th>\n",
              "      <td>Household</td>\n",
              "      <td>SAF 'UV Textured Modern Art Print Framed' Pain...</td>\n",
              "    </tr>\n",
              "  </tbody>\n",
              "</table>\n",
              "</div>"
            ],
            "text/plain": [
              "    Category                                        Description\n",
              "0  Household  Paper Plane Design Framed Wall Hanging Motivat...\n",
              "1  Household  SAF 'Floral' Framed Painting (Wood, 30 inch x ...\n",
              "2  Household  SAF 'UV Textured Modern Art Print Framed' Pain..."
            ]
          },
          "execution_count": 28,
          "metadata": {},
          "output_type": "execute_result"
        }
      ],
      "source": [
        "ecommerce_df = pd.read_csv('../Data/ecommerceDataset.csv', header=None)\n",
        "ecommerce_df.columns = ['Category', 'Description']\n",
        "ecommerce_df.head(3)"
      ]
    },
    {
      "cell_type": "markdown",
      "metadata": {},
      "source": [
        "## Data Exploration                 "
      ]
    },
    {
      "cell_type": "markdown",
      "metadata": {},
      "source": [
        "* No. registros:"
      ]
    },
    {
      "cell_type": "code",
      "execution_count": 29,
      "metadata": {},
      "outputs": [
        {
          "name": "stdout",
          "output_type": "stream",
          "text": [
            "Total de registros: 50425\n"
          ]
        }
      ],
      "source": [
        "print(f'Total de registros: {len(ecommerce_df)}')"
      ]
    },
    {
      "cell_type": "markdown",
      "metadata": {},
      "source": [
        "* Número de categorías y proporción"
      ]
    },
    {
      "cell_type": "code",
      "execution_count": 30,
      "metadata": {},
      "outputs": [
        {
          "data": {
            "image/png": "[encoded data removed]",
            "text/plain": [
              "<Figure size 640x480 with 1 Axes>"
            ]
          },
          "metadata": {},
          "output_type": "display_data"
        }
      ],
      "source": [
        "plt.pie(ecommerce_df['Category'].value_counts(), labels=ecommerce_df['Category'].unique(), autopct='%1.1f%%', shadow=True, startangle=90)\n",
        "plt.title('Distribución de categorías')\n",
        "plt.show()"
      ]
    },
    {
      "cell_type": "markdown",
      "metadata": {},
      "source": [
        "Notemos que tenemos clases desbalanceadas. Esto es un problema ya que nuestro modelo puede tender a clasificar la mayoría de los productos en la clase mayoritaria. Es necesario entender nuestros modelos y métricas para poder lidiar con este problema. El caso idóneo sería que todas tuvieran la misma cantidad de registros (25% en cada clase)."
      ]
    },
    {
      "cell_type": "markdown",
      "metadata": {},
      "source": [
        "* Longitud de las descripciones\n",
        "\n",
        "Dado que tenemos elementos en nan, es necesario eliminarlos para poder graficar la longitud de las descripciones."
      ]
    },
    {
      "cell_type": "code",
      "execution_count": 31,
      "metadata": {},
      "outputs": [
        {
          "name": "stdout",
          "output_type": "stream",
          "text": [
            "El registro con la descripción más larga con longitud 50403 es: risk savvy: how to make good decisions about the author gerd gigerenzer is the author of gut feelings. he is currently the director of the max planck institute for human development in berlin, germany, and lectures around the world on the importance of proper risk education for everyone from school-age children to prominent doctors, bankers, and politicians. \t\t\t\t    \t \t\t\t\t\t excerpt. © reprinted by permission. all rights reserved. praise for gerd gigerenzer’s work“logic be damned! . . . gigerenzer delivers a convincing argument for going with your gut.”—men’s health“all innumerates—buyers, sellers, students, professors, doctors, patients, lawyers and their clients, politicians, voters, writers, and readers—have something to learn from gigerenzer.” —publishers weekly“gladwell drew heavily on gigerenzer’s research. but gigerenzer goes a step further by explaining just why our gut instincts are so often right.” —businessweek“[gigerenzer] has the gift of exposition and several times gives the reader that eureka! feeling.” —the telegraph (uk)“gerd gigerenzer, director of the max planck institute for human development in berlin, locates specific strategies that the unconscious mind uses to solve problems. these are not impulsive or capricious responses, but evolved methods that lead to superior choices.”—the boston globepenguin booksrisk savvygerd gigerenzer is the author of gut feelings. he is currently the director of the max planck institute for human development in berlin, germany, and lectures around the world on the importance of proper risk education for everyone from school-age children to prominent doctors, bankers, and politicians.creativity requires the courage to let go of certainties.erich frommto be alive at all involves some risk.harold macmillan1are people stupid?knowledge is the antidote to fear.ralph waldo emersonremember the volcanic ash cloud over iceland? the subprime disaster? how about mad cow disease? each new crisis makes us worry until we forget and start worrying about the next one. many of us found ourselves stranded in crowded airports, ruined by vanishing pension funds, or anxious about tucking into a yummy beef steak. when something goes wrong, we are told that the way to prevent further crisis is better technology, more laws, and bigger bureaucracy. how to protect ourselves from the next financial crisis? stricter regulations, more and better advisers. how to protect ourselves from the threat of terrorism? homeland security, full body scanners, further sacrifice of individual freedom. how to counteract exploding costs in health care? tax hikes, rationalization, better genetic markers.one idea is absent from these lists: risk-savvy citizens. and there is a reason.“human beings are fallible: lazy, stupid, greedy and weak,” an article in the economist announced.1 we are said to be irrational slaves to our whims and appetites, addicted to sex, smoking, and electronic gadgets. twenty-year-olds drive with their cell phones glued to their ears, oblivious to the fact that doing so lowers their reaction time to that of a seventy-year-old. a fifth of americans believe that they are in the top 1 percent income group and just as many believe that they will soon be there. bankers have little respect for people’s ability to invest money, and some doctors tell me that most of their patients lack intelligence, making it pointless to disclose health information that might be misunderstood in the first place. all of this points to the conclusion that homo sapiens (“man the wise”) is a misnomer. something has gone wrong in our genes. evolution seems to have cheated us with shabby mental software and miswired our brains. in short, john and jane q. public need continuous guidance, as a child needs a parent. although we live in the high-tech twenty-first century, some form of paternalism is the only viable strategy: close the doors, collect the experts, and tell the public what’s best for them.this fatalistic message is not what you will read in this book.2 the problem is not simply individual stupidity, but the phenomenon of a risk-illiterate society.literacy—the ability to read and write—is the lifeblood of an informed citizenship in a democracy. but knowing how to read and write isn’t enough. risk literacy is the basic knowledge required to deal with a modern technological society. the breakneck speed of technological innovation will make risk literacy as indispensable in the twenty-first century as reading and writing were in previous centuries. without it, you jeopardize your health and money, or may be manipulated into unrealistic fears and hopes. one might think that the basics of risk literacy are already being taught. yet you will look in vain for it in most high schools, law schools, medical schools, and beyond. as a result, most of us are risk illiterate.when i use the general term risk savvy i refer not just to risk literacy, but also more broadly to situations where not all risks are known and calculable. risk savvy is not the same as risk aversion. without taking risks, innovation would end, as would fun, and courage would belong to the past. nor does risk savvy mean turning into a reckless daredevil or base jumper, denying the possibility of landing on one’s nose. without a beneficial degree of caution, humans would have ceased to exist long ago.you might think, why bother if there are experts to consult? but it isn’t that simple. bitter experience teaches that expert advice may be a dangerous thing. many doctors, financial advisers, and other risk experts themselves misunderstand risks or are unable to communicate them in an understandable way. worse, quite a few have conflicts of interest or are so afraid of litigation that they recommend actions to clients they would never recommend to their own families. you have no choice but to think for yourself.i’d like to invite you into the world of uncertainty and risk, beginning with weather reports and a very humble hazard, getting soaked.chances of raina weathercaster on u.s. television once announced the weather this way:the probability that it will rain on saturday is 50 percent. the chance that it will rain on sunday is also 50 percent. therefore, the probability that it will rain on the weekend is 100 percent.most of us will smile at this.3 but do you know what it means when the weather report announces a 30 percent chance of rain tomorrow? 30 percent of what? i live in berlin. most berliners believe that it will rain tomorrow 30 percent of the time; that is, for seven to eight hours. others think that it will rain in 30 percent of the region; that is, most likely not where they live. most new yorkers think both are nonsense. they believe that it will rain on 30 percent of the days for which this announcement is made; that is, there will most likely be no rain at all tomorrow.4are people hopelessly confused? not necessarily. part of the problem is the experts who never learned how to explain probabilities in the first place. if they clearly stated the class to which a chance of rain refers, the confusion would disappear. time? region? days? what meteorologists intend to say is that it will rain on 30 percent of the days for which this prediction is made. and “rain” refers to any amount above some tiny threshold, such as 0.01 inches.5 left on their own, people intuitively fill in a reference class that makes sense to them, such as how many hours, where, or how heavily it rains. more imaginative minds will come up with others still. as one woman in new york said, “i know what 30 percent means: three meteorologists think it will rain, and seven not.”here is my point. new forecasting technology has enabled meteorologists to replace mere verbal statements of certainty (“it will rain tomorrow”) or chance (“it is likely”) with numerical precision. but greater precision has not led to greater understanding of what the message really is. the confusion over probabilities of rain has persisted in fact since the very first time they were broadcast to the public in 1965 in the united states. this confusion is not just limited to rain, but occurs whenever a probability is attached to a single event—such as “if you take an antidepressant, you have a 30 percent chance of developing a sexual problem.” does that mean that 30 percent of all people will develop a sexual problem, or that you yourself will have a problem in 30 percent of your sexual encounters? the solution to clearing this widespread and long-standing muddle is surprisingly simple:always ask for the reference class: percent of what?if weathercasters were taught how to communicate to the public, you wouldn’t even have to ask.getting soaked is a minor risk, although for some, from the farmer to ferrari, the chances of rain matter. before the formula 1 grand prix, one of the most-discussed issues is the weather forecast—choosing the right tires are the key to winning the race. the same holds for nasa: the weather forecast is essential for approving or canceling a space shuttle launch, as the challenger disaster tragically illustrates. yet for most of us, all that is at stake is canceling a family outing unnecessarily or getting wet feet. people may not make a special effort to understand chances of rain simply because the hazards are modest. are we more risk savvy when something truly important is at stake?figure 1-1. what does a “30 percent chance of rain tomorrow” mean? some believe it will rain tomorrow 30 percent of the time (upper panel). others believe it will rain tomorrow in 30 percent of the region (middle panel). finally, some believe that three meteorologists think that it will rain and seven do not (lower panel). what meteorologists in fact intend to say is something different: that it will rain on 30 percent of the days for which this announcement is made. the problem is not simply in people’s minds, but in the failure of experts to state clearly what they mean.pill scaregreat britain has many traditions, one of them being the contraceptive pill scare. since the early 1960s, women are alarmed every couple of years by reports that the pill can lead to thrombosis, potentially life-threatening blood clots in the legs or lungs. in the most famous scare, the uk committee on safety of medicines issued a warning that third-generation oral contraceptive pills increased the risk of thrombosis twofold—that is, by 100 percent. how much more certain can you get? this terrifying information was passed on in “dear doctor” letters to 190,000 general practitioners, pharmacists, and directors of public health and was presented in an emergency announcement to the media. alarm bells rang around the country. distressed women stopped taking the pill, which caused unwanted pregnancies and abortions.6just how big is 100 percent? the studies on which the warning was based had shown that of every seven thousand women who took the earlier, second-generation pill, about one had a thrombosis; and that this number increased to two among women who took third-generation pills. that is, the absolute risk increase was only one in seven thousand, whereas the relative risk increase was indeed 100 percent. as we see, in contrast to absolute risks, relative risks appear threateningly large and can cause a great stir. had the committee and the media reported the absolute risks, few women would have panicked and dropped the pill. most likely, no one would have even cared.this single scare led to an estimated thirteen thousand (!) additional abortions in the following year in england and wales. but the fallout lasted for longer than one year. before the alert, abortion rates had been steeply on the decline, but afterward, this trend was reversed and abortion rates increased for years to come. women’s confidence in oral contraceptives was undermined, and pill sales fell sharply. not all unwanted pregnancies were aborted; for every abortion there was also one extra birth. the increase in both abortions and births was particularly pronounced among girls under sixteen, with some eight hundred additional conceptions.ironically, pregnancies and abortions are associated with a risk of thrombosis that exceeds that of the third-generation pill. the pill scare hurt women, hurt the national health service, and even brought down the stocks of the pharmaceutical industry. the resulting increase in costs to the national health service for abortion provision has been estimated at £4–6 million. among the few who profited were the journalists who got the story on the front page.an unwanted pregnancy and abortion is not something to be taken lightly. as one woman reports:when i learned that i was pregnant, my partner and i were together for two years. his first reaction was: “come back when it’s gone.” i threw him out and tried to find a solution. i wanted so much to begin with college. i fought for building a future for us, but i began to realize there was none. the one thing i did not want was to become dependent on the government, or—even worse—on a man. therefore i decided last minute for an abortion. it’s now two days ago, and i have one nervous breakdown after the other. my mind says, it was the best decision, but my heart weeps.the tradition of pill scares continues to the present day, and always with the same trick. the solution is not better pills or more sophisticated abortion technology, but risk-savvy young women and men. it would not be so difficult to explain to teenagers the simple distinction between a relative risk (“100 percent”) and an absolute risk (“one in seven thousand”). after all, batting averages and other sports statistics are common knowledge for many, young and old. yet to the present day journalists have succeeded in causing scares with big numbers, and the public predictably panics, year after year.once again, the remedy is a simple rule:always ask: what is the absolute risk increase?journalists are not the only ones who play on our emotions with the help of numbers. top medical journals, health brochures, and the internet also inform the public in terms of relative changes, because bigger numbers make better headlines. in 2009 the prestigious british medical journal published two articles on oral contraceptives and thrombosis: one made the absolute numbers transparent in its abstract, while the other again touted relative risks, reporting that “oral contraceptives increased the risk of venous thrombosis fivefold.”7 the “fivefold” increase of course made for more spectacular headlines, and some newspapers, such as the london evening standard, didn’t even bother mentioning the absolute numbers. as a rule, although we have high-tech medicine, understandable information for patients and doctors remains the exception.it should be the ethical responsibility of every editor to enforce transparent reporting and it should be on the agenda of every ethics committee and every department of health. but it is not. after publication of my book calculated risks, which explains how to help both the public and doctors understand numbers, the neuroscientist mike gazzaniga, then dean of the faculty at dartmouth college, paid me a visit. outraged by the tricks played on the public by the use of relative risks and other means, he said that he would propose this issue to the president’s council on bioethics, of which he was a member. after all, he argued, misleading the public with numbers happens in the united states just as often as in the united kingdom, and is one of the few ethical problems to which a solution is known. other less clear-cut issues, such as abortion, stem cells, and genetic testing, tend to occupy the council with endless discussions. i am grateful to gazzaniga for trying. yet the ethics committee did not recognize misleading the public as a significant issue and never took it up.if ethics committees don’t protect people, why don’t doctors do it? the surprising answer is that many doctors themselves don’t know how to communicate risks, a skill rarely taught at medical schools. the damaging effect of the “dear doctor” letters illustrates that many of them were taken in by relative risks. once again, the experts are in need of training. otherwise, when the next pill scare arrives, they and those affected may be as unprepared as ever.i have explained the difference between relative and absolute risks to hundreds of journalists, and many have stopped alarming the public and reported absolute risks—only to see their editors often reintroduce the big numbers. we may not always be able to halt those who like to play with our fears, but we can learn to see through their tricks.terrorists use our brainsmost of us remember exactly where we were on september 11, 2001. the pictures of the planes crashing into the twin towers of the world trade center have been ingrained into our memories. in the meantime, everything appears to have been said about the tragic attack. the 9/11 commission report, which appeared three years later, focused on how al-qaeda terrorism evolved and on diplomatic strategies, legal reform, and technological measures. the one measure the 636-page report did not pay attention to, however, was risk-savvy citizens.let us turn the clock back to december 2001. imagine you live in new york and want to travel to washington. would you fly or drive?we know that after the attack, many americans stopped flying. did they stay home or jump into their cars? i have looked for an answer in the transportation statistics. in the months after the attack, the miles driven increased substantially. the increase was particularly strong on the rural interstate highways where long-distance travel happens, jumping by as much as 5 percent in the three months after the attack.8 for comparison, in the months before the assault (january to august), individual monthly vehicle miles were up only less than 1 percent compared to 2000, which reflects the normal increase from year to year. all this extra driving lasted for twelve months; thereafter, car driving went back to normal. by then the images of the burning twin towers were no longer a daily feature in the media.the increase in road travel had sobering consequences. before the attack, the number of fatal traffic accidents remained closely around the average of the previous five years (the zero line in figure 1-2). yet in each of the twelve months after 9/11, the number of fatal crashes was above average, and most of the time, even higher than anything that happened in the previous five years. all in all, an estimated sixteen hundred americans lost their lives on the road due to their decision to avoid the risk of flying.figure 1-2. terrorists’ second strike. after the attacks on september 11, 2001, the number of fatal traffic accidents increased in the united states for a period of twelve months, resulting in an estimated sixteen hundred americans losing their lives on the road in the attempt to avoid the risk of flying. numbers are expressed as deviations from the five-year baseline 1996–2000 (the zero line). before september 2001, the monthly fatal crashes were close to the zero line. in the twelve months following the attack, the number of fatal crashes was higher than the zero line for every month, and in most cases exceeded the maximum of the previous years (the vertical bars show the maximum and minimum). the peaks after 9/11 correspond to terrorism alerts.source: gigerenzer (2004, 2006).this death toll is six times higher than the total number of passengers (256) who died on board the four fatal flights. every one of those traffic victims might still be alive if they had flown instead. from 2002 to 2005, 2.5 billion passengers took to the air on u.s. commercial flights. not a single one died in a major airline crash. thus, although the 9/11 attacks were reported to have cost the lives of about three thousand americans, the number is at least half as many more.let’s give the statistic a face, but a lucky one—one who barely escaped death.justin klabin, a twenty-six-year-old competitive rugby player and volunteer firefighter, watched the twin towers collapse from across the hudson river. with his fire department, he rushed to ground zero. after this deeply emotional experience, he decided to stop flying. a month later, he and his girlfriend went on a trip to florida—by car. their pickup truck mastered the thousand-mile distance. but at the end of a long day on the road back home, they heard a loud pop: both front tires turned toward each other, like snowplowing skis. the tie-rod that connected the steering column to the wheel had snapped, and the truck could not drive a foot farther. they were lucky that the disaster happened when they pulled into a parking space in south carolina. had the rod snapped minutes earlier on the highway at a speed of seventy miles per hour, it is likely that klabin and his girlfriend would have joined those unfortunate travelers who lost their lives by avoiding the risk of flying.terrorists strike twice. first they assault with physical force, and then they assault us with the help of our brains. the first strike gains all the attention. billions of dollars have been poured into developing gigantic bureaucracies, including homeland security, and new technologies, such as full body scanners that make visible the nude surface of skin beneath clothing. the second strike, in contrast, has received almost no attention. in fact, when i gave talks on risk management to international intelligence services and counterterrorism agencies across the world, from singapore to wiesbaden, my hosts were repeatedly surprised, having never even considered it. osama bin laden once explained with relish how little money he used to cause such huge damages: “al-qaeda spent $500,000 on the event, while america, in the incident and its aftermath, lost—according to the lowest estimate—more than $500 billion, meaning that every dollar of al-qaeda defeated a million dollars.”9 it’s hard to prevent terrorists’ suicide missions, but it should be easier to put a stop to the dangerous reactions based on fears that their attacks create within us in their aftermath.what exactly is our brain’s psychology that terrorists exploit? low-probability events in which many people are suddenly killed, so-called dread risks,10 trigger an unconscious psychological principle:if many people die at one point in time, react with fear and avoid that situation.note that the fear is not about dying per se. it is about dying in a specific manner, namely together at one point in time, or in a short interval. when many die spectacularly at one point in time, as in the 9/11 attacks, our evolved brain reacts with great anxiety. but when as many or more die distributed over time, such as in car and motorbike accidents, we are less likely to be afraid. in the united states alone, where about 35,000 people die on the road every year, few worry about dying while driving. what matters psychologically is not, as sometimes claimed, that people have control when driving but not when flying. passengers sitting next to the driver, not to speak of those in the back seats, have no control either, yet show little fear. we don’t really fear dying in the steady stream of everyday incidents; we fear dying together suddenly with lots of others. we dread the rare nuclear power plant accident, not the steady death toll caused by pollution from coal power plants. we dreaded the swine flu pandemic after hearing the forecast of possibly tens of thousands of deaths—which never occurred—while few worry about being among the actual tens of thousands of people killed every year by the regular flu.where does this tendency to fear dread risks come from? in human history, it was likely a rational response. for most of our evolution, humans lived in small hunter-gatherer bands that may have consisted of up to twenty to fifty individuals and rarely exceeded one hundred people, similar to such bands in the world today. in small bands, the sudden loss of many lives could increase the risk of predation and starvation, and thus threaten survival of the whole group.11 but what was rational in the past is not rational today. in modern societies, an individual’s survival is no longer dependent on the support and protection of a small group or tribe. yet the psychological response can still be easily elicited. to this day, real or imagined catastrophes have the potential to trigger panicky reactions.the “old-brain” fear of dread risks can suppress any flash of thought in the new parts of our brains. as a professor from loyola university chicago wrote to me, “after 9/11, i explained the greater risk of driving compared to flying to my wife; that did not do the trick.” rational argument does not always win over old-brain fear, particularly if one spouse tries to educate the other. yet there is a simple rule of thumb that could have helped that professor:if reason conflicts with a strong emotion, don’t try to argue. enlist a conflicting and stronger emotion.one such emotion that conflicts with dread-risk fear is parental concern. the professor might remind his wife that by making them drive long distances she puts the lives of her children—not just that of her husband—at risk. parental emotions stand a better chance of overcoming the lingering fear of flying. a smart “new brain” can play one evolved fear against another to better survive in a modern world. evolution is not destiny.terrorists’ second strike goes beyond the story told here. it has led to an erosion of civil liberties: before 9/11, strip searches without probable cause were seen to violate human rights; they are now seen as citizens’ duty. dread-risk fear makes us willing to tolerate long lines at the airport, put liquids in plastic bags, remove our shoes and belts and jackets, have our bodies touched by strangers. higher security expenses in turn have gone hand in hand with reduced service and cramped seating, as if the airlines were competing for the worst customer service. people have become less lighthearted and more fearful. last but not least, the wars in afghanistan and iraq have cost more than a trillion dollars together with the lives of thousands of soldiers and many more civilians. this financial strain also likely played a part in the financial crisis of 2008.12if a similar attack ever repeats itself, we should not let our brains be misused again for a second strike. only when we are risk savvy can we resist terrorist manipulation and create a safer and more resilient society. to get there, three tools are essential: understanding the nature of dread-risk fear, controlling it by enlisting conflicting emotions if reasons don’t work, and knowing the actual risk of flying.let’s go back to the question i posed before: should you fly or drive? assume again you live in new york and want to travel to washington. you have only one goal, to arrive alive. how many miles would you have to drive by car until the risk of dying is the same as in a nonstop flight? i have asked this to dozens of expert audiences. the answers are all over the place: one thousand miles, ten thousand miles, driving three times around the world. however, the best estimate is twelve miles. yes, only twelve. if your car makes it safely to the airport, the most dangerous part of your trip is likely already behind you.are people hopeless in dealing with risk?how can so many people not notice that they don’t understand probabilities of rain? or end up with unwanted pregnancies and abortions because they don’t know the difference between relative and absolute risks? after all, probabilities of rain and pill scares have been around since the mid-1960s, and the fear of dread risks repeats itself with every new threat, from mad cow disease to sars to bird flu, in an apparently endless circle. why don’t people learn?many experts think the answer is that people are basically incapable of understanding such things. attempts to educate people out of their errors, so the argument goes, have mostly failed. based on this dismal view of the general public, a publication by deutsche bank research features a list of errors that we “homer simpsons” commit against rationality.13 popular books rehearse this message, portraying homo sapiens as “predictably irrational” and in need of “nudges” into behaving sensibly by the few sane people on earth.14my story is different. people aren’t stupid. the problem is that our educational system has an amazing blind spot concerning risk literacy. we teach our children the mathematics of certainty—geometry and trigonometry—but not the mathematics of uncertainty, statistical thinking. and we teach our children biology but not the psychology that shapes their fears and desires. even experts, shockingly, are not trained how to communicate risks to the public in an understandable way. and there can be positive interest in scaring people: to get an article on the front page, to persuade people to relinquish civil rights, or to sell a product. all these outside causes contribute to the problem.the good news is that there is a solution. who would have thought, a few hundred years ago, that so many people on earth would learn to read and write? we will see that everybody who wants to can also become risk savvy. based on my and other colleagues’ research, i will argue that:1. everyone can learn to deal with risk and uncertainty. in this book, i will explain principles that are easily understood by everyone who dares to know.2. experts are part of the problem rather than the solution. many experts themselves struggle with understanding risks, lack skills in communicating them, and pursue interests not aligned with yours. giant banks go bust for exactly these reasons. little is gained when risk-illiterate authorities are placed in charge of guiding the public.3. less is more. when we face a complex problem, we look for a complex solution. and when it doesn’t work, we seek an even more complex one. in an uncertain world, that’s a big error. complex problems do not always require complex solutions. overly complicated systems, from financial derivatives to tax systems, are difficult to comprehend, easy to exploit, and possibly dangerous. and they do not increase the trust of the people. simple rules, in contrast, can make us smart and create a safer world.“savvy” means acute, astute, and wise. but being risk savvy is more than being well informed. it requires courage to face an uncertain future as well as to stand up to authority and ask critical questions. we can take the remote control for our emotions back into our own hands. using one’s mind without another’s guidance entails an inner psychological revolution. such a revolt makes life more enlightening and less anxiety-ridden. i have written this book to encourage risk-savvy citizens.becoming risk savvyin his essay “what is enlightenment?” the philosopher immanuel kant begins thus:15enlightenment is man’s emergence from his self-imposed nonage. nonage is the inability to use one’s own understanding without another’s guidance. this nonage is self-imposed if its cause lies not in lack of understanding but in indecision and lack of courage to use one’s mind without another’s guidance. dare to know!freedom of speech, the right to vote, and protection against harm are among the most important achievements since the enlightenment. these liberties are a treasure. they refer to what doors are open to you, to your opportunities. today, every internet user has free access to more information than humankind ever had before. yet the idea of open doors is a passive or “negative” concept of liberty. positive liberty, in contrast, entails more than free access. the question is whether you are able to walk through these doors, whether you can master your life without the constant guidance of others.16 now that people in democratic societies have vastly enlarged their opportunities, positive liberty has become the next challenge.risk-savvy citizens are indispensable pillars of a society that is ready for positive liberty. whether the context is a weather forecast, a medical decision, or a large-scale disaster, being risk savvy requires a basic knowledge of our intuitive psychology as well as an understanding of statistical information. only with both skills, and a portion of curiosity and courage, will we be able to take our lives in our own hands. 2certainty is an illusionnothing will ever separate us. we will probably be married another ten years.elizabeth taylor, 1974, five days before she and richard burton announced their divorcewe think of uncertainty as something we don’t want. in the best of all worlds, all things should be certain, absolutely certain. so we buy insurance against everything, swear by horoscopes, or pray to god. we collect terabytes of information to turn our computers into crystal balls. yet think of what would happen if our wishes were granted. if we knew everything about the future with certainty, our lives would be drained of emotion. no surprise and pleasure, no joy or thrill—we knew it all along. the first kiss, the first proposal, the birth of a healthy child would be about as exciting as last year’s weather report. if our world ever turned certain, life would be mind-numbingly dull.the illusion of certaintynonetheless many of us ask for certainty from our bankers, our doctors, and our political leaders. what they deliver in response is the illusion of certainty, the belief that something is certain even when it isn’t. every year we support a multibillion-dollar industry that calculates future predictions, mostly erroneous, from market tips to global flu pandemics. many of us smile at old-fashioned fortune-tellers. but when the soothsayers work with computer algorithms rather than tarot cards, we take their predictions seriously and are prepared to pay for them. the most astounding part is our collective amnesia: most of us are still anxious to see stock market predictions even if they have been consistently wrong year after year.throughout history, humans have created belief systems that promise certainty, such as astrology and divination. a glance on the internet reveals that these systems are still in high demand. modern technology has added further vehicles of apparent certainty, from genetic tests to personalized medicine to risk measures in banking.blind faith in testsif a genetic test shows that the defendant’s dna matches with the traces found on the murdered victim, isn’t this certain evidence that he is the murderer? if a woman who is pregnant takes an hiv test and the test comes out positive, isn’t this certain evidence that she—and likely her baby—is infected? in a word, no. to find out how widespread the illusion of certainty actually is, i surveyed a representative sample of one thousand german adults. they were asked in face-to-face interviews: “which of the following tests are absolutely certain?” the result is shown in figure 2-1.figure 2-1. which test is absolutely certain? among a representative sample of one thousand germans, 4 percent believed that an expert horoscope is absolutely certain. when modern technology is involved, the illusion of certainty is amplified. all of these tests make errors.when an astrologer calculates an expert horoscope for you and foretells that you will develop a serious illness and might even die at age forty-nine, will you tremble when the date approaches? some 4 percent of germans would; they believe that an expert horoscope is absolutely certain.1 yet there is no evidence that horoscopes do better than a good friend asked to predict your future. but when technology is involved, the illusion of certainty is amplified. forty-four percent of people surveyed think that the result of a screening mammogram is certain. in fact, mammograms fail to detect about ten percent of cancers, and the younger the women being tested, the more error-prone the results, because their breasts are denser.finally, nearly two thirds of germans believe that hiv tests and fingerprints are absolutely certain, and an even higher number place their faith in dna tests. these tests are indeed much more accurate than mammograms, but none of their results are certain. fingerprints, for instance, are unique features of an individual, even for identical twins who share the same genes. if the fingerprints of a suspect matched with those found on the scene of a crime, what jury would acquit the suspect? but is our system for fingerprint identification infallible? fingerprints were believed to be “foolproof” until 1998, when the fbi sent two fingerprints found on a getaway car to be matched with the fingerprints of the convicted perpetrator to labs at several u.s. state law enforcement agencies. from thirty-five laboratories, eight could not match one of the prints and six more found no match for the other.2 clearly, this is not the exact science many believe it to be.not understanding a new technology is one thing. believing that it delivers certainty is another. for those of us who suffer from the illusion of certainty, there is a simple remedy. always remember what benjamin franklin said:“in this world nothing can be said to be certain, except death and taxes.”my security blanket, pleasehumans appear to have a need for certainty, a motivation to hold on to something rather than to question it. people with a high need for certainty are more prone to stereotypes than others and are less inclined to remember information that contradicts their stereotypes.3 they find ambiguity confusing and have a desire to plan out their lives rationally. first get a degree, a car, and then a career, find the most perfect partner, buy a home, and have beautiful babies. but then the economy breaks down, the job is lost, the partner has an affair with someone else, and one finds oneself packing boxes to move to a cheaper place. in an uncertain world, we cannot plan everything ahead. here, we can only cross each bridge when we come to it, not beforehand. the very desire to plan and organize everything may be part of the problem, not the solution. there is a yiddish joke: “do you know how to make god laugh? tell him your plans.”to be sure, illusions have their function. small children often need security blankets to soothe their fears. yet for the mature adult, a high need for certainty can be a dangerous thing. it prevents us from learning to face the uncertainty pervading our lives. as hard as we try, we cannot make our lives risk-free the way we make our milk fat-free.at the same time, a psychological need is not entirely to blame for the illusion of certainty. manufacturers of certainty play a crucial role in cultivating the illusion. they delude us into thinking that our future is predictable, as long as the right technology is at hand. yet the future can be one damned thing after another. false certainty is disseminated by many an expert, and sometimes shamelessly. “i am sure i have found the holy grail,” a financial expert divulged to an eager-looking client at a fancy zurich hotel in such a bellowing baritone that i could not help but listen. after an hour of plugging a supposedly fail-safe investment without a waver of a doubt, he won over the client—and his money.the quest for certainty is an old human endeavor. magical cults, soothsayers, and authority figures who know what’s right and wrong are its proponents. similarly, for centuries many philosophers have been misled by looking for certainties where none exist, equating knowledge with certainty and belief with uncertainty, as john dewey, the great pragmatist philosopher, pointed out.4 today, modern technologies, from mathematical stock prediction methods to medical imaging machines, compete for the confidence promised by religion and authority.the quest for certainty is the biggest obstacle to becoming risk savvy. while there are things we can know, we must also be able to recognize when we cannot know something. we know almost for sure that halley’s comet will return in the year 2062, but we can rarely predict natural disasters and stock crashes. “only fools, liars, and charlatans predict earthquakes,” said charles richter, namesake of the scale that measures their magnitude.5 similarly, an analysis of thousands of forecasts by political and economic experts revealed that they rarely did better than dilettantes or dart-throwing chimps.6 but what the experts were extremely talented at was inventing excuses for their errors (“i was almost right”). the problem is that false certainty can do tremendous damage. as we will see, blind faith in tests and financial forecasts can lead to misery. not only can it endanger your physical and mental health, but it can also ruin your bank account and the economy as a whole. we have to learn to live with uncertainty. it’s time to face up to it. a first step toward doing so is to understand the distinction between known risks and unknown risks.risk and uncertaintytwo magnificently dressed young women sit upright on their chairs, calmly facing each other. yet neither takes notice of the other. fortuna, the fickle, wheel-toting goddess of chance, sits blindfolded on the left while human figures desperately climb, cling to, or tumble off the wheel in her hand (figure 2-2). sapientia, the calculating and vain deity of science, gazes into a hand-mirror, lost in admiration of herself. these two allegorical figures depict a long-standing polarity: fortuna brings good or bad luck, depending on her mood, but science promises certainty.figure 2-2. fortuna, the wheel-toting goddess of chance (left), facing sapientia, the divine goddess of science (right). in this sixteenth-century woodcut, the two women are pictured in their traditional opposition: fortune’s luck makes people climb and fall from her wheel, while science promises certainty. a century later, in one of the greatest scientific revolutions, chance became tamed and science lost its certainty. courtesy of the bridgeman art library, london.this sixteenth-century woodcut was carved a century before one of the greatest revolutions in human thinking, the “probabilistic revolution,” colloquially known as the taming of chance. its domestication began in the mid-seventeenth century. since then, fortuna’s opposition to sapientia has evolved into an intimate relationship, not without attempts to snatch each other’s possessions. science sought to liberate people from fortuna’s wheel, to banish belief in fate, and replace chances with causes. fortuna struck back by undermining science itself with chance and creating the vast empire of probability and statistics.7 after their struggles, neither remained the same: fortuna was tamed, and science lost its certainty.today, we live in the mesmerizing world these two allegorical figures created. our minds have become crowded with numbers and probabilities. baseball grew out of sandlots and city streets, supported by a culture of working men and farm boys. now it is unthinkable without statistics: batting averages, strikeout averages, and playing the percentages. if forced to choose, many a fan would prefer seeing the numbers to the game. markets and trading emerged from daring, worldly-wise men who voyaged across empires and made their fortunes, surpassing the ruling aristocracy in wealth and eventually initiating a revolution so that others without titles of nobility could live a decent life. today, traders no longer venture to make their fortunes on the road but on their high-speed computers with the help of mathematical models aimed at predicting the stock market. all the while blindfolded fortuna is still at work, calmly spinning her wheel, fooling forecasters and plunging nobel laureates’ hedge funds into ruin.the twilight of uncertainty comes in different shades and degrees. beginning in the seventeenth century, the probabilistic revolution gave humankind the skills of statistical thinking to triumph over fortuna, but these skills were designed for the palest shade of uncertainty, a world of known risk, in short, risk (figure 2-3, center). i use this term for a world where all alternatives, consequences, and probabilities are known. lotteries and games of chance are examples. most of the time, however, we live in a changing world where some of these are unknown: where we face unknown risks, or uncertainty (figure 2-3, right). the world of uncertainty is huge compared to that of risk. whom to marry? whom to trust? what to do with the rest of one’s life? in an uncertain world, it is impossible to determine the optimal course of action by calculating the exact risks. we have to deal with “unknown unknowns.” surprises happen. even when calculation does not provide a clear answer, however, we have to make decisions. thankfully we can do much better than frantically clinging to and tumbling off fortuna’s wheel. fortuna and sapientia had a second brainchild alongside mathematical probability, which is often passed over: rules of thumb, known in scientific language as heuristics.8 when making decisions, the two sets of mental tools are required:   • risk: if risks are known, good decisions require logic and statistical thinking.   • uncertainty: if some risks are unknown, good decisions also require intuition and smart rules of thumb.most of the time, a combination of both is needed. some things can be calculated, others not, and what can be calculated is often only a crude estimate.figure 2-3. certainty, risk, and uncertainty. in everyday language, we make a distinction between “certainty” and “risk,” but the terms “risk” and “uncertainty” are mostly used as synonyms. they aren’t. in a world of known risks, everything, including the probabilities, is known for certain. here, statistical thinking and logic are sufficient to make good decisions. in an uncertain world, not everything is known, and one cannot calculate the best option. here, good rules of thumb and intuition are also required.known riskthe taming of chance created mathematical probability. i will use the term known risk or simply risk for probabilities that can be measured empirically, as opposed to uncertainties that cannot.9 probabilities of rain, for instance, can be measured on the basis of observed frequencies, as can batting averages and the risk of thrombosis. originally, the word “risk” referred not just to dangers or harms but also to both good or bad fortunes in fortuna’s hands: a risk can be a threat or a hope. i will retain the original use of the word. after all, without risk taking there would be little innovation. and in many situations, a negative outcome can be viewed as positive from another perspective: a probability of rain can refer to a dangerous event, such as heavy rain causing car accidents, but also to a positive outcome, such as rain ending drought and famine. the risk of losing your fortune in a gambling casino is a calamity for you but a welcome one for the casino owners.the three faces of probabilityone important fact is often overlooked. probability is not one of a kind; it was born with three faces: frequency, physical design, and degrees of belief.10 and these have persisted to this day.frequency. in the first of its identities, probability is about counting. counting the number of days with rainfall or the number of hits a baseball player makes and dividing these by the total number of days or strikes results in probabilities that are relative frequencies. their historical origins lie in seventeenth-century mortality tables, from which life insurances calculated probabilities of death.physical design. second, probability is about constructing. for example, if a die is constructed to be perfectly symmetrical, then the probability of rolling a six is one in six. you don’t have to count. similarly, mechanical slot machines are physically designed to pay out, say, 80 percent of what people throw in, and electronic machines have software that determines the probabilities. probabilities by design are called propensities. historically, games of chance were the prototype for propensity. these risks are known because people crafted, not counted, them.degrees of belief. third, probability is about degrees of belief. a degree of belief can be based on anything from experience to personal impression. historically, its origin is in eyewitness testimony in courts and, more spectacularly, in the judeo-christian lore of miracles.11 to this day, the testimony of two independent witnesses counts more than that of two who talked with each other beforehand, and the same holds for the testimony of a witness who did not know the defendant than that of his brother. but how to quantify these intuitions? that was the question that gave rise to degrees of belief expressed as probabilities.unlike known risks based on measurable frequencies or physical design, degrees of belief can be quite subjective and variable. frequencies and design limit probability to situations involving large amounts of data or a design that is clearly understood. degrees of belief, in contrast, are more expansive, suggesting that probability can be applied to any and every problem. the danger is that by extending probability to everything, it is easy to be seduced into thinking that one tool—calculating probabilities—is sufficient for dealing with all kinds of uncertainty. as a consequence, other important tools, such as rules of thumb, are left in the cupboard.does this multiplicity of identities matter? not much when playing dice, but it certainly does when it comes to modern technology. the risk of a major accident in a nuclear power plant can be estimated by counting earlier accidents, or by the physical design of the plant, or by experts’ degrees of belief, or some mixture of these. the resulting estimates can be strikingly different. while counting nuclear accidents is straightforward, propensities are hard to determine for the design of a power plant, allowing for widely diverging estimates that may depend on the estimators’ political attitudes and on their financial backer. for that reason, it is always important to ask how the risk of a nuclear meltdown, or any other risk, was actually calculated.the art of risk communication\n",
            "El registro con la descripción más corta con longitud 3 es: nan\n",
            "El label es Clothing & Accessories\n",
            "\n",
            "Items antes : (50425,)\n",
            "Items después : (50424,)\n"
          ]
        }
      ],
      "source": [
        "x = ecommerce_df['Description'].str.lower()\n",
        "\n",
        "num_min = 0\n",
        "\n",
        "while num_min < 3:\n",
        "    x_lens = [len(str(i)) for i in x]\n",
        "\n",
        "    idx_max = np.argmax(x_lens)\n",
        "    idx_min = np.argmin(x_lens)\n",
        "    \n",
        "    num_min = len(str(x[idx_min]))\n",
        "\n",
        "    print(f'El registro con la descripción más larga con longitud {len(x[idx_max])} es: {x[idx_max]}')\n",
        "    print(f'El registro con la descripción más corta con longitud {len(str(x[idx_min]))} es: {x[idx_min]}')\n",
        "    \n",
        "    print(f'El label es {ecommerce_df[\"Category\"][idx_min]}')\n",
        "    print('')\n",
        "    print(f'Items antes : {x.shape}')\n",
        "    x.drop(idx_min, inplace=True)\n",
        "    x.reset_index(drop=True, inplace=True)\n",
        "    print(f'Items después : {x.shape}')"
      ]
    },
    {
      "cell_type": "markdown",
      "metadata": {},
      "source": [
        "* Distribución de las longitudes"
      ]
    },
    {
      "cell_type": "code",
      "execution_count": 32,
      "metadata": {},
      "outputs": [
        {
          "data": {
            "text/html": [
              "<div>\n",
              "<style scoped>\n",
              "    .dataframe tbody tr th:only-of-type {\n",
              "        vertical-align: middle;\n",
              "    }\n",
              "\n",
              "    .dataframe tbody tr th {\n",
              "        vertical-align: top;\n",
              "    }\n",
              "\n",
              "    .dataframe thead th {\n",
              "        text-align: right;\n",
              "    }\n",
              "</style>\n",
              "<table border=\"1\" class=\"dataframe\">\n",
              "  <thead>\n",
              "    <tr style=\"text-align: right;\">\n",
              "      <th></th>\n",
              "      <th>Category</th>\n",
              "      <th>Description</th>\n",
              "      <th>Longitud</th>\n",
              "    </tr>\n",
              "  </thead>\n",
              "  <tbody>\n",
              "    <tr>\n",
              "      <th>0</th>\n",
              "      <td>Household</td>\n",
              "      <td>Paper Plane Design Framed Wall Hanging Motivat...</td>\n",
              "      <td>1338</td>\n",
              "    </tr>\n",
              "    <tr>\n",
              "      <th>1</th>\n",
              "      <td>Household</td>\n",
              "      <td>SAF 'Floral' Framed Painting (Wood, 30 inch x ...</td>\n",
              "      <td>346</td>\n",
              "    </tr>\n",
              "    <tr>\n",
              "      <th>2</th>\n",
              "      <td>Household</td>\n",
              "      <td>SAF 'UV Textured Modern Art Print Framed' Pain...</td>\n",
              "      <td>1316</td>\n",
              "    </tr>\n",
              "  </tbody>\n",
              "</table>\n",
              "</div>"
            ],
            "text/plain": [
              "    Category                                        Description  Longitud\n",
              "0  Household  Paper Plane Design Framed Wall Hanging Motivat...      1338\n",
              "1  Household  SAF 'Floral' Framed Painting (Wood, 30 inch x ...       346\n",
              "2  Household  SAF 'UV Textured Modern Art Print Framed' Pain...      1316"
            ]
          },
          "execution_count": 32,
          "metadata": {},
          "output_type": "execute_result"
        }
      ],
      "source": [
        "x_desc = ecommerce_df['Description'].str.lower()\n",
        "x_lens = [len(str(i)) for i in x_desc]\n",
        "ecommerce_df['Longitud'] = x_lens\n",
        "ecommerce_df.head(3)"
      ]
    },
    {
      "cell_type": "code",
      "execution_count": 33,
      "metadata": {},
      "outputs": [
        {
          "data": {
            "image/png": "[encoded data removed]",
            "text/plain": [
              "<Figure size 640x480 with 1 Axes>"
            ]
          },
          "metadata": {},
          "output_type": "display_data"
        }
      ],
      "source": [
        "ecommerce_df['Longitud'].plot.hist(bins=100)\n",
        "plt.title('Distribución de la longitud de las descripciones')\n",
        "plt.show()"
      ]
    },
    {
      "cell_type": "markdown",
      "metadata": {},
      "source": [
        "* Descripción de la clase Household"
      ]
    },
    {
      "cell_type": "code",
      "execution_count": 34,
      "metadata": {},
      "outputs": [
        {
          "data": {
            "text/html": [
              "<div>\n",
              "<style scoped>\n",
              "    .dataframe tbody tr th:only-of-type {\n",
              "        vertical-align: middle;\n",
              "    }\n",
              "\n",
              "    .dataframe tbody tr th {\n",
              "        vertical-align: top;\n",
              "    }\n",
              "\n",
              "    .dataframe thead th {\n",
              "        text-align: right;\n",
              "    }\n",
              "</style>\n",
              "<table border=\"1\" class=\"dataframe\">\n",
              "  <thead>\n",
              "    <tr style=\"text-align: right;\">\n",
              "      <th></th>\n",
              "      <th>Longitud</th>\n",
              "    </tr>\n",
              "  </thead>\n",
              "  <tbody>\n",
              "    <tr>\n",
              "      <th>count</th>\n",
              "      <td>19313.000000</td>\n",
              "    </tr>\n",
              "    <tr>\n",
              "      <th>mean</th>\n",
              "      <td>671.543779</td>\n",
              "    </tr>\n",
              "    <tr>\n",
              "      <th>std</th>\n",
              "      <td>606.382618</td>\n",
              "    </tr>\n",
              "    <tr>\n",
              "      <th>min</th>\n",
              "      <td>8.000000</td>\n",
              "    </tr>\n",
              "    <tr>\n",
              "      <th>25%</th>\n",
              "      <td>274.000000</td>\n",
              "    </tr>\n",
              "    <tr>\n",
              "      <th>50%</th>\n",
              "      <td>515.000000</td>\n",
              "    </tr>\n",
              "    <tr>\n",
              "      <th>75%</th>\n",
              "      <td>903.000000</td>\n",
              "    </tr>\n",
              "    <tr>\n",
              "      <th>max</th>\n",
              "      <td>10168.000000</td>\n",
              "    </tr>\n",
              "  </tbody>\n",
              "</table>\n",
              "</div>"
            ],
            "text/plain": [
              "           Longitud\n",
              "count  19313.000000\n",
              "mean     671.543779\n",
              "std      606.382618\n",
              "min        8.000000\n",
              "25%      274.000000\n",
              "50%      515.000000\n",
              "75%      903.000000\n",
              "max    10168.000000"
            ]
          },
          "execution_count": 34,
          "metadata": {},
          "output_type": "execute_result"
        }
      ],
      "source": [
        "ecommerce_df[ecommerce_df['Category'] == 'Household'].describe()"
      ]
    },
    {
      "cell_type": "markdown",
      "metadata": {},
      "source": [
        "* Descripción de la clase Electronics"
      ]
    },
    {
      "cell_type": "code",
      "execution_count": 35,
      "metadata": {},
      "outputs": [
        {
          "data": {
            "text/html": [
              "<div>\n",
              "<style scoped>\n",
              "    .dataframe tbody tr th:only-of-type {\n",
              "        vertical-align: middle;\n",
              "    }\n",
              "\n",
              "    .dataframe tbody tr th {\n",
              "        vertical-align: top;\n",
              "    }\n",
              "\n",
              "    .dataframe thead th {\n",
              "        text-align: right;\n",
              "    }\n",
              "</style>\n",
              "<table border=\"1\" class=\"dataframe\">\n",
              "  <thead>\n",
              "    <tr style=\"text-align: right;\">\n",
              "      <th></th>\n",
              "      <th>Longitud</th>\n",
              "    </tr>\n",
              "  </thead>\n",
              "  <tbody>\n",
              "    <tr>\n",
              "      <th>count</th>\n",
              "      <td>10621.000000</td>\n",
              "    </tr>\n",
              "    <tr>\n",
              "      <th>mean</th>\n",
              "      <td>851.107523</td>\n",
              "    </tr>\n",
              "    <tr>\n",
              "      <th>std</th>\n",
              "      <td>813.681965</td>\n",
              "    </tr>\n",
              "    <tr>\n",
              "      <th>min</th>\n",
              "      <td>9.000000</td>\n",
              "    </tr>\n",
              "    <tr>\n",
              "      <th>25%</th>\n",
              "      <td>293.000000</td>\n",
              "    </tr>\n",
              "    <tr>\n",
              "      <th>50%</th>\n",
              "      <td>630.000000</td>\n",
              "    </tr>\n",
              "    <tr>\n",
              "      <th>75%</th>\n",
              "      <td>1222.000000</td>\n",
              "    </tr>\n",
              "    <tr>\n",
              "      <th>max</th>\n",
              "      <td>12473.000000</td>\n",
              "    </tr>\n",
              "  </tbody>\n",
              "</table>\n",
              "</div>"
            ],
            "text/plain": [
              "           Longitud\n",
              "count  10621.000000\n",
              "mean     851.107523\n",
              "std      813.681965\n",
              "min        9.000000\n",
              "25%      293.000000\n",
              "50%      630.000000\n",
              "75%     1222.000000\n",
              "max    12473.000000"
            ]
          },
          "execution_count": 35,
          "metadata": {},
          "output_type": "execute_result"
        }
      ],
      "source": [
        "ecommerce_df[ecommerce_df['Category'] == 'Electronics'].describe()"
      ]
    },
    {
      "cell_type": "markdown",
      "metadata": {},
      "source": [
        "* Descripción de la clase Clothing & Accessories"
      ]
    },
    {
      "cell_type": "code",
      "execution_count": 36,
      "metadata": {},
      "outputs": [
        {
          "data": {
            "text/html": [
              "<div>\n",
              "<style scoped>\n",
              "    .dataframe tbody tr th:only-of-type {\n",
              "        vertical-align: middle;\n",
              "    }\n",
              "\n",
              "    .dataframe tbody tr th {\n",
              "        vertical-align: top;\n",
              "    }\n",
              "\n",
              "    .dataframe thead th {\n",
              "        text-align: right;\n",
              "    }\n",
              "</style>\n",
              "<table border=\"1\" class=\"dataframe\">\n",
              "  <thead>\n",
              "    <tr style=\"text-align: right;\">\n",
              "      <th></th>\n",
              "      <th>Longitud</th>\n",
              "    </tr>\n",
              "  </thead>\n",
              "  <tbody>\n",
              "    <tr>\n",
              "      <th>count</th>\n",
              "      <td>8671.000000</td>\n",
              "    </tr>\n",
              "    <tr>\n",
              "      <th>mean</th>\n",
              "      <td>446.250029</td>\n",
              "    </tr>\n",
              "    <tr>\n",
              "      <th>std</th>\n",
              "      <td>393.465462</td>\n",
              "    </tr>\n",
              "    <tr>\n",
              "      <th>min</th>\n",
              "      <td>3.000000</td>\n",
              "    </tr>\n",
              "    <tr>\n",
              "      <th>25%</th>\n",
              "      <td>181.000000</td>\n",
              "    </tr>\n",
              "    <tr>\n",
              "      <th>50%</th>\n",
              "      <td>342.000000</td>\n",
              "    </tr>\n",
              "    <tr>\n",
              "      <th>75%</th>\n",
              "      <td>568.000000</td>\n",
              "    </tr>\n",
              "    <tr>\n",
              "      <th>max</th>\n",
              "      <td>3474.000000</td>\n",
              "    </tr>\n",
              "  </tbody>\n",
              "</table>\n",
              "</div>"
            ],
            "text/plain": [
              "          Longitud\n",
              "count  8671.000000\n",
              "mean    446.250029\n",
              "std     393.465462\n",
              "min       3.000000\n",
              "25%     181.000000\n",
              "50%     342.000000\n",
              "75%     568.000000\n",
              "max    3474.000000"
            ]
          },
          "execution_count": 36,
          "metadata": {},
          "output_type": "execute_result"
        }
      ],
      "source": [
        "ecommerce_df[ecommerce_df['Category'] == 'Clothing & Accessories'].describe()"
      ]
    },
    {
      "cell_type": "markdown",
      "metadata": {},
      "source": [
        "* Descripción de la clase Books"
      ]
    },
    {
      "cell_type": "code",
      "execution_count": 37,
      "metadata": {},
      "outputs": [
        {
          "data": {
            "text/html": [
              "<div>\n",
              "<style scoped>\n",
              "    .dataframe tbody tr th:only-of-type {\n",
              "        vertical-align: middle;\n",
              "    }\n",
              "\n",
              "    .dataframe tbody tr th {\n",
              "        vertical-align: top;\n",
              "    }\n",
              "\n",
              "    .dataframe thead th {\n",
              "        text-align: right;\n",
              "    }\n",
              "</style>\n",
              "<table border=\"1\" class=\"dataframe\">\n",
              "  <thead>\n",
              "    <tr style=\"text-align: right;\">\n",
              "      <th></th>\n",
              "      <th>Longitud</th>\n",
              "    </tr>\n",
              "  </thead>\n",
              "  <tbody>\n",
              "    <tr>\n",
              "      <th>count</th>\n",
              "      <td>11820.000000</td>\n",
              "    </tr>\n",
              "    <tr>\n",
              "      <th>mean</th>\n",
              "      <td>857.007783</td>\n",
              "    </tr>\n",
              "    <tr>\n",
              "      <th>std</th>\n",
              "      <td>1624.798676</td>\n",
              "    </tr>\n",
              "    <tr>\n",
              "      <th>min</th>\n",
              "      <td>4.000000</td>\n",
              "    </tr>\n",
              "    <tr>\n",
              "      <th>25%</th>\n",
              "      <td>81.000000</td>\n",
              "    </tr>\n",
              "    <tr>\n",
              "      <th>50%</th>\n",
              "      <td>495.000000</td>\n",
              "    </tr>\n",
              "    <tr>\n",
              "      <th>75%</th>\n",
              "      <td>1064.000000</td>\n",
              "    </tr>\n",
              "    <tr>\n",
              "      <th>max</th>\n",
              "      <td>50403.000000</td>\n",
              "    </tr>\n",
              "  </tbody>\n",
              "</table>\n",
              "</div>"
            ],
            "text/plain": [
              "           Longitud\n",
              "count  11820.000000\n",
              "mean     857.007783\n",
              "std     1624.798676\n",
              "min        4.000000\n",
              "25%       81.000000\n",
              "50%      495.000000\n",
              "75%     1064.000000\n",
              "max    50403.000000"
            ]
          },
          "execution_count": 37,
          "metadata": {},
          "output_type": "execute_result"
        }
      ],
      "source": [
        "ecommerce_df[ecommerce_df['Category'] == 'Books'].describe()"
      ]
    },
    {
      "cell_type": "markdown",
      "metadata": {
        "id": "0_7H2N49GzcZ"
      },
      "source": [
        "* Manejo de valores faltantes"
      ]
    },
    {
      "cell_type": "code",
      "execution_count": 38,
      "metadata": {
        "colab": {
          "base_uri": "https://localhost:8080/"
        },
        "id": "nglWZCE7BS0j",
        "outputId": "73050e30-3d83-4d90-96f2-5e562870756a"
      },
      "outputs": [
        {
          "name": "stdout",
          "output_type": "stream",
          "text": [
            "<class 'pandas.core.frame.DataFrame'>\n",
            "RangeIndex: 50425 entries, 0 to 50424\n",
            "Data columns (total 3 columns):\n",
            " #   Column       Non-Null Count  Dtype \n",
            "---  ------       --------------  ----- \n",
            " 0   Category     50425 non-null  object\n",
            " 1   Description  50424 non-null  object\n",
            " 2   Longitud     50425 non-null  int64 \n",
            "dtypes: int64(1), object(2)\n",
            "memory usage: 1.2+ MB\n"
          ]
        }
      ],
      "source": [
        "# Revisemos si tenemos valores faltantes en alguna de las columnas\n",
        "ecommerce_df.info()"
      ]
    },
    {
      "cell_type": "code",
      "execution_count": 39,
      "metadata": {
        "colab": {
          "base_uri": "https://localhost:8080/"
        },
        "id": "9gaz2xUzHLud",
        "outputId": "93735934-b23c-4c36-88a6-3c7db6742f2e"
      },
      "outputs": [
        {
          "data": {
            "text/html": [
              "<div>\n",
              "<style scoped>\n",
              "    .dataframe tbody tr th:only-of-type {\n",
              "        vertical-align: middle;\n",
              "    }\n",
              "\n",
              "    .dataframe tbody tr th {\n",
              "        vertical-align: top;\n",
              "    }\n",
              "\n",
              "    .dataframe thead th {\n",
              "        text-align: right;\n",
              "    }\n",
              "</style>\n",
              "<table border=\"1\" class=\"dataframe\">\n",
              "  <thead>\n",
              "    <tr style=\"text-align: right;\">\n",
              "      <th></th>\n",
              "      <th>Category</th>\n",
              "      <th>Description</th>\n",
              "      <th>Longitud</th>\n",
              "    </tr>\n",
              "  </thead>\n",
              "  <tbody>\n",
              "  </tbody>\n",
              "</table>\n",
              "</div>"
            ],
            "text/plain": [
              "Empty DataFrame\n",
              "Columns: [Category, Description, Longitud]\n",
              "Index: []"
            ]
          },
          "execution_count": 39,
          "metadata": {},
          "output_type": "execute_result"
        }
      ],
      "source": [
        "# Eliminamos las filas con valores faltantes\n",
        "ecommerce_df = ecommerce_df.dropna(subset=['Description'])\n",
        "\n",
        "ecommerce_df[ecommerce_df['Description'].isnull()]"
      ]
    },
    {
      "cell_type": "code",
      "execution_count": 40,
      "metadata": {},
      "outputs": [
        {
          "name": "stdout",
          "output_type": "stream",
          "text": [
            "<class 'pandas.core.frame.DataFrame'>\n",
            "Index: 50424 entries, 0 to 50424\n",
            "Data columns (total 3 columns):\n",
            " #   Column       Non-Null Count  Dtype \n",
            "---  ------       --------------  ----- \n",
            " 0   Category     50424 non-null  object\n",
            " 1   Description  50424 non-null  object\n",
            " 2   Longitud     50424 non-null  int64 \n",
            "dtypes: int64(1), object(2)\n",
            "memory usage: 1.5+ MB\n"
          ]
        }
      ],
      "source": [
        "# Revisemos si tenemos valores faltantes en alguna de las columnas\n",
        "ecommerce_df.info()"
      ]
    },
    {
      "cell_type": "markdown",
      "metadata": {},
      "source": [
        "## Limpieza"
      ]
    },
    {
      "cell_type": "markdown",
      "metadata": {
        "id": "V72ZegVrHwcp"
      },
      "source": [
        "### Funciones de limpieza"
      ]
    },
    {
      "cell_type": "code",
      "execution_count": 41,
      "metadata": {
        "colab": {
          "base_uri": "https://localhost:8080/"
        },
        "id": "eFjaqacZNCYm",
        "outputId": "3ea3c9ba-1113-4599-bbb6-2f1b51f9dd8f"
      },
      "outputs": [
        {
          "name": "stderr",
          "output_type": "stream",
          "text": [
            "[nltk_data] Downloading package stopwords to\n",
            "[nltk_data]     /Users/danielmalvaez/nltk_data...\n",
            "[nltk_data]   Package stopwords is already up-to-date!\n",
            "[nltk_data] Downloading package punkt to\n",
            "[nltk_data]     /Users/danielmalvaez/nltk_data...\n",
            "[nltk_data]   Package punkt is already up-to-date!\n"
          ]
        },
        {
          "data": {
            "text/plain": [
              "True"
            ]
          },
          "execution_count": 41,
          "metadata": {},
          "output_type": "execute_result"
        }
      ],
      "source": [
        "# Librerías necesarias\n",
        "# import spacy\n",
        "import nltk\n",
        "from nltk.corpus import stopwords\n",
        "from nltk.stem import PorterStemmer\n",
        "from nltk.tokenize import TweetTokenizer, word_tokenize\n",
        "import string\n",
        "import re\n",
        "\n",
        "# Corpus de spacy\n",
        "# corpus = spacy.load('en_core_web_sm')\n",
        "# Corpus de NLTK\n",
        "nltk.download('stopwords')\n",
        "nltk.download('punkt')"
      ]
    },
    {
      "cell_type": "markdown",
      "metadata": {},
      "source": [
        "* Funciones que nos ayudaran a:\n",
        "    * ***process_text*** : Eliminar caracteres especiales y stopwords\n",
        "    * ***tokenize_stemming_func*** : Tokenizamos nuestro texto y aplicamos stemming\n",
        "    * ***tokenize_lemma_func*** : Tokenizamos nuestro texto y aplicamos lemmatization"
      ]
    },
    {
      "cell_type": "code",
      "execution_count": 42,
      "metadata": {
        "id": "1Nu7Oum0JxMg"
      },
      "outputs": [],
      "source": [
        "# Función para eliminar stopwords y caracteres especiales\n",
        "def process_text(text):\n",
        "  # Minúsculas y caracteres especiales\n",
        "  text = text.lower()\n",
        "  text = re.sub(r'[^a-zA-Z\\s]', '', text)\n",
        "\n",
        "  # Elimninando las stopwords\n",
        "  words = text.split()\n",
        "  words = [word for word in words if word not in stopwords.words('english')]\n",
        "  return ' '.join(words)\n",
        "\n",
        "def tokenize_stemming_func(text):\n",
        "  # Tokenizar\n",
        "  tokens_ =  word_tokenize(text, language='english')\n",
        "  # Stemming\n",
        "  stemmer = PorterStemmer()\n",
        "  stems = []\n",
        "  for w in tokens_:\n",
        "    stem_word = stemmer.stem(w)\n",
        "    stems.append(stem_word)\n",
        "  return stems\n",
        "\n",
        "def tokenize_lemma_func(text):\n",
        "  # Tokenizar\n",
        "  tokens_ =  word_tokenize(text, language='english')\n",
        "  \n",
        "  # Lemmatizar\n",
        "  lemmatizer = nltk.stem.WordNetLemmatizer()\n",
        "  lemmas = []\n",
        "  for w in tokens_:\n",
        "    lemmas.append(lemmatizer.lemmatize(w))\n",
        "  return lemmas"
      ]
    },
    {
      "cell_type": "markdown",
      "metadata": {},
      "source": [
        "### Verificamos la remoción de stopwords y caracteres especiales"
      ]
    },
    {
      "cell_type": "code",
      "execution_count": 53,
      "metadata": {
        "colab": {
          "base_uri": "https://localhost:8080/"
        },
        "id": "S9K67XVUInLx",
        "outputId": "d1102198-a105-447b-e313-dbefde3cdc20"
      },
      "outputs": [
        {
          "ename": "KeyboardInterrupt",
          "evalue": "",
          "output_type": "error",
          "traceback": [
            "\u001b[0;31m---------------------------------------------------------------------------\u001b[0m",
            "\u001b[0;31mKeyboardInterrupt\u001b[0m                         Traceback (most recent call last)",
            "\u001b[1;32m/Users/danielmalvaez/Library/CloudStorage/GoogleDrive-malvaez.axel@aries.iimas.unam.mx/My Drive/MacBook/Documentos/School/DataScience/7thSemester/MachineLearning/Proyecto/Jupyter/ML_Project.ipynb Cell 34\u001b[0m line \u001b[0;36m4\n\u001b[1;32m      <a href='vscode-notebook-cell:/Users/danielmalvaez/Library/CloudStorage/GoogleDrive-malvaez.axel%40aries.iimas.unam.mx/My%20Drive/MacBook/Documentos/School/DataScience/7thSemester/MachineLearning/Proyecto/Jupyter/ML_Project.ipynb#X45sZmlsZQ%3D%3D?line=0'>1</a>\u001b[0m \u001b[39m# Aplicamos la función al dataframe\u001b[39;00m\n\u001b[1;32m      <a href='vscode-notebook-cell:/Users/danielmalvaez/Library/CloudStorage/GoogleDrive-malvaez.axel%40aries.iimas.unam.mx/My%20Drive/MacBook/Documentos/School/DataScience/7thSemester/MachineLearning/Proyecto/Jupyter/ML_Project.ipynb#X45sZmlsZQ%3D%3D?line=1'>2</a>\u001b[0m test_df \u001b[39m=\u001b[39m ecommerce_df\n\u001b[0;32m----> <a href='vscode-notebook-cell:/Users/danielmalvaez/Library/CloudStorage/GoogleDrive-malvaez.axel%40aries.iimas.unam.mx/My%20Drive/MacBook/Documentos/School/DataScience/7thSemester/MachineLearning/Proyecto/Jupyter/ML_Project.ipynb#X45sZmlsZQ%3D%3D?line=3'>4</a>\u001b[0m test_df[\u001b[39m'\u001b[39m\u001b[39mDescription\u001b[39m\u001b[39m'\u001b[39m] \u001b[39m=\u001b[39m test_df[\u001b[39m'\u001b[39;49m\u001b[39mDescription\u001b[39;49m\u001b[39m'\u001b[39;49m]\u001b[39m.\u001b[39;49mapply(process_text)\n\u001b[1;32m      <a href='vscode-notebook-cell:/Users/danielmalvaez/Library/CloudStorage/GoogleDrive-malvaez.axel%40aries.iimas.unam.mx/My%20Drive/MacBook/Documentos/School/DataScience/7thSemester/MachineLearning/Proyecto/Jupyter/ML_Project.ipynb#X45sZmlsZQ%3D%3D?line=4'>5</a>\u001b[0m test_df\u001b[39m.\u001b[39mhead(\u001b[39m3\u001b[39m)\n",
            "File \u001b[0;32m~/opt/anaconda3/envs/py/lib/python3.10/site-packages/pandas/core/series.py:4631\u001b[0m, in \u001b[0;36mSeries.apply\u001b[0;34m(self, func, convert_dtype, args, **kwargs)\u001b[0m\n\u001b[1;32m   4521\u001b[0m \u001b[39mdef\u001b[39;00m \u001b[39mapply\u001b[39m(\n\u001b[1;32m   4522\u001b[0m     \u001b[39mself\u001b[39m,\n\u001b[1;32m   4523\u001b[0m     func: AggFuncType,\n\u001b[0;32m   (...)\u001b[0m\n\u001b[1;32m   4526\u001b[0m     \u001b[39m*\u001b[39m\u001b[39m*\u001b[39mkwargs,\n\u001b[1;32m   4527\u001b[0m ) \u001b[39m-\u001b[39m\u001b[39m>\u001b[39m DataFrame \u001b[39m|\u001b[39m Series:\n\u001b[1;32m   4528\u001b[0m \u001b[39m    \u001b[39m\u001b[39m\"\"\"\u001b[39;00m\n\u001b[1;32m   4529\u001b[0m \u001b[39m    Invoke function on values of Series.\u001b[39;00m\n\u001b[1;32m   4530\u001b[0m \n\u001b[0;32m   (...)\u001b[0m\n\u001b[1;32m   4629\u001b[0m \u001b[39m    dtype: float64\u001b[39;00m\n\u001b[1;32m   4630\u001b[0m \u001b[39m    \"\"\"\u001b[39;00m\n\u001b[0;32m-> 4631\u001b[0m     \u001b[39mreturn\u001b[39;00m SeriesApply(\u001b[39mself\u001b[39;49m, func, convert_dtype, args, kwargs)\u001b[39m.\u001b[39;49mapply()\n",
            "File \u001b[0;32m~/opt/anaconda3/envs/py/lib/python3.10/site-packages/pandas/core/apply.py:1025\u001b[0m, in \u001b[0;36mSeriesApply.apply\u001b[0;34m(self)\u001b[0m\n\u001b[1;32m   1022\u001b[0m     \u001b[39mreturn\u001b[39;00m \u001b[39mself\u001b[39m\u001b[39m.\u001b[39mapply_str()\n\u001b[1;32m   1024\u001b[0m \u001b[39m# self.f is Callable\u001b[39;00m\n\u001b[0;32m-> 1025\u001b[0m \u001b[39mreturn\u001b[39;00m \u001b[39mself\u001b[39;49m\u001b[39m.\u001b[39;49mapply_standard()\n",
            "File \u001b[0;32m~/opt/anaconda3/envs/py/lib/python3.10/site-packages/pandas/core/apply.py:1076\u001b[0m, in \u001b[0;36mSeriesApply.apply_standard\u001b[0;34m(self)\u001b[0m\n\u001b[1;32m   1074\u001b[0m     \u001b[39melse\u001b[39;00m:\n\u001b[1;32m   1075\u001b[0m         values \u001b[39m=\u001b[39m obj\u001b[39m.\u001b[39mastype(\u001b[39mobject\u001b[39m)\u001b[39m.\u001b[39m_values\n\u001b[0;32m-> 1076\u001b[0m         mapped \u001b[39m=\u001b[39m lib\u001b[39m.\u001b[39;49mmap_infer(\n\u001b[1;32m   1077\u001b[0m             values,\n\u001b[1;32m   1078\u001b[0m             f,\n\u001b[1;32m   1079\u001b[0m             convert\u001b[39m=\u001b[39;49m\u001b[39mself\u001b[39;49m\u001b[39m.\u001b[39;49mconvert_dtype,\n\u001b[1;32m   1080\u001b[0m         )\n\u001b[1;32m   1082\u001b[0m \u001b[39mif\u001b[39;00m \u001b[39mlen\u001b[39m(mapped) \u001b[39mand\u001b[39;00m \u001b[39misinstance\u001b[39m(mapped[\u001b[39m0\u001b[39m], ABCSeries):\n\u001b[1;32m   1083\u001b[0m     \u001b[39m# GH#43986 Need to do list(mapped) in order to get treated as nested\u001b[39;00m\n\u001b[1;32m   1084\u001b[0m     \u001b[39m#  See also GH#25959 regarding EA support\u001b[39;00m\n\u001b[1;32m   1085\u001b[0m     \u001b[39mreturn\u001b[39;00m obj\u001b[39m.\u001b[39m_constructor_expanddim(\u001b[39mlist\u001b[39m(mapped), index\u001b[39m=\u001b[39mobj\u001b[39m.\u001b[39mindex)\n",
            "File \u001b[0;32m~/opt/anaconda3/envs/py/lib/python3.10/site-packages/pandas/_libs/lib.pyx:2834\u001b[0m, in \u001b[0;36mpandas._libs.lib.map_infer\u001b[0;34m()\u001b[0m\n",
            "\u001b[1;32m/Users/danielmalvaez/Library/CloudStorage/GoogleDrive-malvaez.axel@aries.iimas.unam.mx/My Drive/MacBook/Documentos/School/DataScience/7thSemester/MachineLearning/Proyecto/Jupyter/ML_Project.ipynb Cell 34\u001b[0m line \u001b[0;36m9\n\u001b[1;32m      <a href='vscode-notebook-cell:/Users/danielmalvaez/Library/CloudStorage/GoogleDrive-malvaez.axel%40aries.iimas.unam.mx/My%20Drive/MacBook/Documentos/School/DataScience/7thSemester/MachineLearning/Proyecto/Jupyter/ML_Project.ipynb#X45sZmlsZQ%3D%3D?line=6'>7</a>\u001b[0m \u001b[39m# Elimninando las stopwords\u001b[39;00m\n\u001b[1;32m      <a href='vscode-notebook-cell:/Users/danielmalvaez/Library/CloudStorage/GoogleDrive-malvaez.axel%40aries.iimas.unam.mx/My%20Drive/MacBook/Documentos/School/DataScience/7thSemester/MachineLearning/Proyecto/Jupyter/ML_Project.ipynb#X45sZmlsZQ%3D%3D?line=7'>8</a>\u001b[0m words \u001b[39m=\u001b[39m text\u001b[39m.\u001b[39msplit()\n\u001b[0;32m----> <a href='vscode-notebook-cell:/Users/danielmalvaez/Library/CloudStorage/GoogleDrive-malvaez.axel%40aries.iimas.unam.mx/My%20Drive/MacBook/Documentos/School/DataScience/7thSemester/MachineLearning/Proyecto/Jupyter/ML_Project.ipynb#X45sZmlsZQ%3D%3D?line=8'>9</a>\u001b[0m words \u001b[39m=\u001b[39m [word \u001b[39mfor\u001b[39;00m word \u001b[39min\u001b[39;00m words \u001b[39mif\u001b[39;00m word \u001b[39mnot\u001b[39;00m \u001b[39min\u001b[39;00m stopwords\u001b[39m.\u001b[39mwords(\u001b[39m'\u001b[39m\u001b[39menglish\u001b[39m\u001b[39m'\u001b[39m)]\n\u001b[1;32m     <a href='vscode-notebook-cell:/Users/danielmalvaez/Library/CloudStorage/GoogleDrive-malvaez.axel%40aries.iimas.unam.mx/My%20Drive/MacBook/Documentos/School/DataScience/7thSemester/MachineLearning/Proyecto/Jupyter/ML_Project.ipynb#X45sZmlsZQ%3D%3D?line=9'>10</a>\u001b[0m \u001b[39mreturn\u001b[39;00m \u001b[39m'\u001b[39m\u001b[39m \u001b[39m\u001b[39m'\u001b[39m\u001b[39m.\u001b[39mjoin(words)\n",
            "\u001b[1;32m/Users/danielmalvaez/Library/CloudStorage/GoogleDrive-malvaez.axel@aries.iimas.unam.mx/My Drive/MacBook/Documentos/School/DataScience/7thSemester/MachineLearning/Proyecto/Jupyter/ML_Project.ipynb Cell 34\u001b[0m line \u001b[0;36m9\n\u001b[1;32m      <a href='vscode-notebook-cell:/Users/danielmalvaez/Library/CloudStorage/GoogleDrive-malvaez.axel%40aries.iimas.unam.mx/My%20Drive/MacBook/Documentos/School/DataScience/7thSemester/MachineLearning/Proyecto/Jupyter/ML_Project.ipynb#X45sZmlsZQ%3D%3D?line=6'>7</a>\u001b[0m \u001b[39m# Elimninando las stopwords\u001b[39;00m\n\u001b[1;32m      <a href='vscode-notebook-cell:/Users/danielmalvaez/Library/CloudStorage/GoogleDrive-malvaez.axel%40aries.iimas.unam.mx/My%20Drive/MacBook/Documentos/School/DataScience/7thSemester/MachineLearning/Proyecto/Jupyter/ML_Project.ipynb#X45sZmlsZQ%3D%3D?line=7'>8</a>\u001b[0m words \u001b[39m=\u001b[39m text\u001b[39m.\u001b[39msplit()\n\u001b[0;32m----> <a href='vscode-notebook-cell:/Users/danielmalvaez/Library/CloudStorage/GoogleDrive-malvaez.axel%40aries.iimas.unam.mx/My%20Drive/MacBook/Documentos/School/DataScience/7thSemester/MachineLearning/Proyecto/Jupyter/ML_Project.ipynb#X45sZmlsZQ%3D%3D?line=8'>9</a>\u001b[0m words \u001b[39m=\u001b[39m [word \u001b[39mfor\u001b[39;00m word \u001b[39min\u001b[39;00m words \u001b[39mif\u001b[39;00m word \u001b[39mnot\u001b[39;00m \u001b[39min\u001b[39;00m stopwords\u001b[39m.\u001b[39;49mwords(\u001b[39m'\u001b[39;49m\u001b[39menglish\u001b[39;49m\u001b[39m'\u001b[39;49m)]\n\u001b[1;32m     <a href='vscode-notebook-cell:/Users/danielmalvaez/Library/CloudStorage/GoogleDrive-malvaez.axel%40aries.iimas.unam.mx/My%20Drive/MacBook/Documentos/School/DataScience/7thSemester/MachineLearning/Proyecto/Jupyter/ML_Project.ipynb#X45sZmlsZQ%3D%3D?line=9'>10</a>\u001b[0m \u001b[39mreturn\u001b[39;00m \u001b[39m'\u001b[39m\u001b[39m \u001b[39m\u001b[39m'\u001b[39m\u001b[39m.\u001b[39mjoin(words)\n",
            "File \u001b[0;32m~/opt/anaconda3/envs/py/lib/python3.10/site-packages/nltk/corpus/reader/wordlist.py:21\u001b[0m, in \u001b[0;36mWordListCorpusReader.words\u001b[0;34m(self, fileids, ignore_lines_startswith)\u001b[0m\n\u001b[1;32m     18\u001b[0m \u001b[39mdef\u001b[39;00m \u001b[39mwords\u001b[39m(\u001b[39mself\u001b[39m, fileids\u001b[39m=\u001b[39m\u001b[39mNone\u001b[39;00m, ignore_lines_startswith\u001b[39m=\u001b[39m\u001b[39m\"\u001b[39m\u001b[39m\\n\u001b[39;00m\u001b[39m\"\u001b[39m):\n\u001b[1;32m     19\u001b[0m     \u001b[39mreturn\u001b[39;00m [\n\u001b[1;32m     20\u001b[0m         line\n\u001b[0;32m---> 21\u001b[0m         \u001b[39mfor\u001b[39;00m line \u001b[39min\u001b[39;00m line_tokenize(\u001b[39mself\u001b[39;49m\u001b[39m.\u001b[39;49mraw(fileids))\n\u001b[1;32m     22\u001b[0m         \u001b[39mif\u001b[39;00m \u001b[39mnot\u001b[39;00m line\u001b[39m.\u001b[39mstartswith(ignore_lines_startswith)\n\u001b[1;32m     23\u001b[0m     ]\n",
            "File \u001b[0;32m~/opt/anaconda3/envs/py/lib/python3.10/site-packages/nltk/corpus/reader/api.py:218\u001b[0m, in \u001b[0;36mCorpusReader.raw\u001b[0;34m(self, fileids)\u001b[0m\n\u001b[1;32m    216\u001b[0m contents \u001b[39m=\u001b[39m []\n\u001b[1;32m    217\u001b[0m \u001b[39mfor\u001b[39;00m f \u001b[39min\u001b[39;00m fileids:\n\u001b[0;32m--> 218\u001b[0m     \u001b[39mwith\u001b[39;00m \u001b[39mself\u001b[39;49m\u001b[39m.\u001b[39;49mopen(f) \u001b[39mas\u001b[39;00m fp:\n\u001b[1;32m    219\u001b[0m         contents\u001b[39m.\u001b[39mappend(fp\u001b[39m.\u001b[39mread())\n\u001b[1;32m    220\u001b[0m \u001b[39mreturn\u001b[39;00m concat(contents)\n",
            "File \u001b[0;32m~/opt/anaconda3/envs/py/lib/python3.10/site-packages/nltk/corpus/reader/api.py:231\u001b[0m, in \u001b[0;36mCorpusReader.open\u001b[0;34m(self, file)\u001b[0m\n\u001b[1;32m    223\u001b[0m \u001b[39m\u001b[39m\u001b[39m\"\"\"\u001b[39;00m\n\u001b[1;32m    224\u001b[0m \u001b[39mReturn an open stream that can be used to read the given file.\u001b[39;00m\n\u001b[1;32m    225\u001b[0m \u001b[39mIf the file's encoding is not None, then the stream will\u001b[39;00m\n\u001b[0;32m   (...)\u001b[0m\n\u001b[1;32m    228\u001b[0m \u001b[39m:param file: The file identifier of the file to read.\u001b[39;00m\n\u001b[1;32m    229\u001b[0m \u001b[39m\"\"\"\u001b[39;00m\n\u001b[1;32m    230\u001b[0m encoding \u001b[39m=\u001b[39m \u001b[39mself\u001b[39m\u001b[39m.\u001b[39mencoding(file)\n\u001b[0;32m--> 231\u001b[0m stream \u001b[39m=\u001b[39m \u001b[39mself\u001b[39;49m\u001b[39m.\u001b[39;49m_root\u001b[39m.\u001b[39;49mjoin(file)\u001b[39m.\u001b[39mopen(encoding)\n\u001b[1;32m    232\u001b[0m \u001b[39mreturn\u001b[39;00m stream\n",
            "File \u001b[0;32m~/opt/anaconda3/envs/py/lib/python3.10/site-packages/nltk/data.py:334\u001b[0m, in \u001b[0;36mFileSystemPathPointer.join\u001b[0;34m(self, fileid)\u001b[0m\n\u001b[1;32m    332\u001b[0m \u001b[39mdef\u001b[39;00m \u001b[39mjoin\u001b[39m(\u001b[39mself\u001b[39m, fileid):\n\u001b[1;32m    333\u001b[0m     _path \u001b[39m=\u001b[39m os\u001b[39m.\u001b[39mpath\u001b[39m.\u001b[39mjoin(\u001b[39mself\u001b[39m\u001b[39m.\u001b[39m_path, fileid)\n\u001b[0;32m--> 334\u001b[0m     \u001b[39mreturn\u001b[39;00m FileSystemPathPointer(_path)\n",
            "File \u001b[0;32m~/opt/anaconda3/envs/py/lib/python3.10/site-packages/nltk/compat.py:41\u001b[0m, in \u001b[0;36mpy3_data.<locals>._decorator\u001b[0;34m(*args, **kwargs)\u001b[0m\n\u001b[1;32m     39\u001b[0m \u001b[39mdef\u001b[39;00m \u001b[39m_decorator\u001b[39m(\u001b[39m*\u001b[39margs, \u001b[39m*\u001b[39m\u001b[39m*\u001b[39mkwargs):\n\u001b[1;32m     40\u001b[0m     args \u001b[39m=\u001b[39m (args[\u001b[39m0\u001b[39m], add_py3_data(args[\u001b[39m1\u001b[39m])) \u001b[39m+\u001b[39m args[\u001b[39m2\u001b[39m:]\n\u001b[0;32m---> 41\u001b[0m     \u001b[39mreturn\u001b[39;00m init_func(\u001b[39m*\u001b[39;49margs, \u001b[39m*\u001b[39;49m\u001b[39m*\u001b[39;49mkwargs)\n",
            "File \u001b[0;32m~/opt/anaconda3/envs/py/lib/python3.10/site-packages/nltk/data.py:311\u001b[0m, in \u001b[0;36mFileSystemPathPointer.__init__\u001b[0;34m(self, _path)\u001b[0m\n\u001b[1;32m    304\u001b[0m \u001b[39m\u001b[39m\u001b[39m\"\"\"\u001b[39;00m\n\u001b[1;32m    305\u001b[0m \u001b[39mCreate a new path pointer for the given absolute path.\u001b[39;00m\n\u001b[1;32m    306\u001b[0m \n\u001b[1;32m    307\u001b[0m \u001b[39m:raise IOError: If the given path does not exist.\u001b[39;00m\n\u001b[1;32m    308\u001b[0m \u001b[39m\"\"\"\u001b[39;00m\n\u001b[1;32m    310\u001b[0m _path \u001b[39m=\u001b[39m os\u001b[39m.\u001b[39mpath\u001b[39m.\u001b[39mabspath(_path)\n\u001b[0;32m--> 311\u001b[0m \u001b[39mif\u001b[39;00m \u001b[39mnot\u001b[39;00m os\u001b[39m.\u001b[39;49mpath\u001b[39m.\u001b[39;49mexists(_path):\n\u001b[1;32m    312\u001b[0m     \u001b[39mraise\u001b[39;00m \u001b[39mOSError\u001b[39;00m(\u001b[39m\"\u001b[39m\u001b[39mNo such file or directory: \u001b[39m\u001b[39m%r\u001b[39;00m\u001b[39m\"\u001b[39m \u001b[39m%\u001b[39m _path)\n\u001b[1;32m    313\u001b[0m \u001b[39mself\u001b[39m\u001b[39m.\u001b[39m_path \u001b[39m=\u001b[39m _path\n",
            "File \u001b[0;32m~/opt/anaconda3/envs/py/lib/python3.10/genericpath.py:19\u001b[0m, in \u001b[0;36mexists\u001b[0;34m(path)\u001b[0m\n\u001b[1;32m     17\u001b[0m \u001b[39m\u001b[39m\u001b[39m\"\"\"Test whether a path exists.  Returns False for broken symbolic links\"\"\"\u001b[39;00m\n\u001b[1;32m     18\u001b[0m \u001b[39mtry\u001b[39;00m:\n\u001b[0;32m---> 19\u001b[0m     os\u001b[39m.\u001b[39;49mstat(path)\n\u001b[1;32m     20\u001b[0m \u001b[39mexcept\u001b[39;00m (\u001b[39mOSError\u001b[39;00m, \u001b[39mValueError\u001b[39;00m):\n\u001b[1;32m     21\u001b[0m     \u001b[39mreturn\u001b[39;00m \u001b[39mFalse\u001b[39;00m\n",
            "\u001b[0;31mKeyboardInterrupt\u001b[0m: "
          ]
        }
      ],
      "source": [
        "# Aplicamos la función al dataframe\n",
        "test_df = ecommerce_df.head(500)\n",
        "\n",
        "test_df['Description'] = test_df['Description'].apply(process_text)\n",
        "test_df.head(3)"
      ]
    },
    {
      "cell_type": "code",
      "execution_count": 44,
      "metadata": {
        "colab": {
          "base_uri": "https://localhost:8080/"
        },
        "id": "YnyW1egLNKu7",
        "outputId": "d0f972b2-b2a3-4c55-bd55-8df6042ed60a"
      },
      "outputs": [
        {
          "name": "stdout",
          "output_type": "stream",
          "text": [
            "Descripción antes de procesar el texto:\n",
            "\n",
            "Paper Plane Design Framed Wall Hanging Motivational Office Decor Art Prints (8.7 X 8.7 inch) - Set of 4 Painting made up in synthetic frame with uv textured print which gives multi effects and attracts towards it. This is an special series of paintings which makes your wall very beautiful and gives a royal touch. This painting is ready to hang, you would be proud to possess this unique painting that is a niche apart. We use only the most modern and efficient printing technology on our prints, with only the and inks and precision epson, roland and hp printers. This innovative hd printing technique results in durable and spectacular looking prints of the highest that last a lifetime. We print solely with top-notch 100% inks, to achieve brilliant and true colours. Due to their high level of uv resistance, our prints retain their beautiful colours for many years. Add colour and style to your living space with this digitally printed painting. Some are for pleasure and some for eternal bliss.so bring home this elegant print that is lushed with rich colors that makes it nothing but sheer elegance to be to your friends and family.it would be treasured forever by whoever your lucky recipient is. Liven up your place with these intriguing paintings that are high definition hd graphic digital prints for home, office or any room.\n"
          ]
        }
      ],
      "source": [
        "print(f\"Descripción antes de procesar el texto:\\n\")\n",
        "print(ecommerce_df['Description'].iloc[0])"
      ]
    },
    {
      "cell_type": "code",
      "execution_count": 45,
      "metadata": {
        "colab": {
          "base_uri": "https://localhost:8080/"
        },
        "id": "tBTXxgzMNd7m",
        "outputId": "b448ce5e-36d8-4f7a-aa17-df8ad43d523a"
      },
      "outputs": [
        {
          "name": "stdout",
          "output_type": "stream",
          "text": [
            "Descripción después de procesar el texto:\n",
            "\n",
            "paper plane design framed wall hanging motivational office decor art prints x inch set painting made synthetic frame uv textured print gives multi effects attracts towards special series paintings makes wall beautiful gives royal touch painting ready hang would proud possess unique painting niche apart use modern efficient printing technology prints inks precision epson roland hp printers innovative hd printing technique results durable spectacular looking prints highest last lifetime print solely topnotch inks achieve brilliant true colours due high level uv resistance prints retain beautiful colours many years add colour style living space digitally printed painting pleasure eternal blissso bring home elegant print lushed rich colors makes nothing sheer elegance friends familyit would treasured forever whoever lucky recipient liven place intriguing paintings high definition hd graphic digital prints home office room\n"
          ]
        }
      ],
      "source": [
        "print(f\"Descripción después de procesar el texto:\\n\")\n",
        "print(test_df['Description'].iloc[0])"
      ]
    },
    {
      "cell_type": "markdown",
      "metadata": {
        "id": "CFIm4b2y7XPm"
      },
      "source": [
        "### Tokenizing y Stemming"
      ]
    },
    {
      "cell_type": "code",
      "execution_count": 46,
      "metadata": {
        "colab": {
          "base_uri": "https://localhost:8080/"
        },
        "id": "YPIESyEp7ZyL",
        "outputId": "6388456f-6d21-4f9e-9035-b2f6ea4033d5"
      },
      "outputs": [
        {
          "name": "stderr",
          "output_type": "stream",
          "text": [
            "/var/folders/8l/f787_tgj7sg6grwn27dvfx0h0000gn/T/ipykernel_10218/2126189129.py:1: SettingWithCopyWarning: \n",
            "A value is trying to be set on a copy of a slice from a DataFrame.\n",
            "Try using .loc[row_indexer,col_indexer] = value instead\n",
            "\n",
            "See the caveats in the documentation: https://pandas.pydata.org/pandas-docs/stable/user_guide/indexing.html#returning-a-view-versus-a-copy\n",
            "  test_df['Description'] = test_df['Description'].apply(tokenize_stemming_func)\n"
          ]
        },
        {
          "data": {
            "text/html": [
              "<div>\n",
              "<style scoped>\n",
              "    .dataframe tbody tr th:only-of-type {\n",
              "        vertical-align: middle;\n",
              "    }\n",
              "\n",
              "    .dataframe tbody tr th {\n",
              "        vertical-align: top;\n",
              "    }\n",
              "\n",
              "    .dataframe thead th {\n",
              "        text-align: right;\n",
              "    }\n",
              "</style>\n",
              "<table border=\"1\" class=\"dataframe\">\n",
              "  <thead>\n",
              "    <tr style=\"text-align: right;\">\n",
              "      <th></th>\n",
              "      <th>Category</th>\n",
              "      <th>Description</th>\n",
              "      <th>Longitud</th>\n",
              "    </tr>\n",
              "  </thead>\n",
              "  <tbody>\n",
              "    <tr>\n",
              "      <th>0</th>\n",
              "      <td>Household</td>\n",
              "      <td>[paper, plane, design, frame, wall, hang, moti...</td>\n",
              "      <td>1338</td>\n",
              "    </tr>\n",
              "    <tr>\n",
              "      <th>1</th>\n",
              "      <td>Household</td>\n",
              "      <td>[saf, floral, frame, paint, wood, inch, x, inc...</td>\n",
              "      <td>346</td>\n",
              "    </tr>\n",
              "    <tr>\n",
              "      <th>2</th>\n",
              "      <td>Household</td>\n",
              "      <td>[saf, uv, textur, modern, art, print, frame, p...</td>\n",
              "      <td>1316</td>\n",
              "    </tr>\n",
              "  </tbody>\n",
              "</table>\n",
              "</div>"
            ],
            "text/plain": [
              "    Category                                        Description  Longitud\n",
              "0  Household  [paper, plane, design, frame, wall, hang, moti...      1338\n",
              "1  Household  [saf, floral, frame, paint, wood, inch, x, inc...       346\n",
              "2  Household  [saf, uv, textur, modern, art, print, frame, p...      1316"
            ]
          },
          "execution_count": 46,
          "metadata": {},
          "output_type": "execute_result"
        }
      ],
      "source": [
        "test_df['Description'] = test_df['Description'].apply(tokenize_stemming_func)\n",
        "test_df.head(3)"
      ]
    },
    {
      "cell_type": "code",
      "execution_count": 47,
      "metadata": {
        "colab": {
          "base_uri": "https://localhost:8080/"
        },
        "id": "KPHRwGt39EW5",
        "outputId": "189ee124-1f9d-4acc-bdf2-e24ee8c09ea4"
      },
      "outputs": [
        {
          "name": "stdout",
          "output_type": "stream",
          "text": [
            "Descripción después de tokenizar y hacer stemming:\n",
            "\n",
            "['paper', 'plane', 'design', 'frame', 'wall', 'hang', 'motiv', 'offic', 'decor', 'art', 'print', 'x', 'inch', 'set', 'paint', 'made', 'synthet', 'frame', 'uv', 'textur', 'print', 'give', 'multi', 'effect', 'attract', 'toward', 'special', 'seri', 'paint', 'make', 'wall', 'beauti', 'give', 'royal', 'touch', 'paint', 'readi', 'hang', 'would', 'proud', 'possess', 'uniqu', 'paint', 'nich', 'apart', 'use', 'modern', 'effici', 'print', 'technolog', 'print', 'ink', 'precis', 'epson', 'roland', 'hp', 'printer', 'innov', 'hd', 'print', 'techniqu', 'result', 'durabl', 'spectacular', 'look', 'print', 'highest', 'last', 'lifetim', 'print', 'sole', 'topnotch', 'ink', 'achiev', 'brilliant', 'true', 'colour', 'due', 'high', 'level', 'uv', 'resist', 'print', 'retain', 'beauti', 'colour', 'mani', 'year', 'add', 'colour', 'style', 'live', 'space', 'digit', 'print', 'paint', 'pleasur', 'etern', 'blissso', 'bring', 'home', 'eleg', 'print', 'lush', 'rich', 'color', 'make', 'noth', 'sheer', 'eleg', 'friend', 'familyit', 'would', 'treasur', 'forev', 'whoever', 'lucki', 'recipi', 'liven', 'place', 'intrigu', 'paint', 'high', 'definit', 'hd', 'graphic', 'digit', 'print', 'home', 'offic', 'room']\n"
          ]
        }
      ],
      "source": [
        "print(f\"Descripción después de tokenizar y hacer stemming:\\n\")\n",
        "print(test_df['Description'].iloc[0])"
      ]
    },
    {
      "cell_type": "markdown",
      "metadata": {},
      "source": [
        "### Tokenizing y Lemmatization"
      ]
    },
    {
      "cell_type": "code",
      "execution_count": 48,
      "metadata": {},
      "outputs": [
        {
          "name": "stderr",
          "output_type": "stream",
          "text": [
            "/var/folders/8l/f787_tgj7sg6grwn27dvfx0h0000gn/T/ipykernel_10218/3004558066.py:4: SettingWithCopyWarning: \n",
            "A value is trying to be set on a copy of a slice from a DataFrame.\n",
            "Try using .loc[row_indexer,col_indexer] = value instead\n",
            "\n",
            "See the caveats in the documentation: https://pandas.pydata.org/pandas-docs/stable/user_guide/indexing.html#returning-a-view-versus-a-copy\n",
            "  test_df['Description'] = test_df['Description'].apply(process_text)\n"
          ]
        },
        {
          "data": {
            "text/html": [
              "<div>\n",
              "<style scoped>\n",
              "    .dataframe tbody tr th:only-of-type {\n",
              "        vertical-align: middle;\n",
              "    }\n",
              "\n",
              "    .dataframe tbody tr th {\n",
              "        vertical-align: top;\n",
              "    }\n",
              "\n",
              "    .dataframe thead th {\n",
              "        text-align: right;\n",
              "    }\n",
              "</style>\n",
              "<table border=\"1\" class=\"dataframe\">\n",
              "  <thead>\n",
              "    <tr style=\"text-align: right;\">\n",
              "      <th></th>\n",
              "      <th>Category</th>\n",
              "      <th>Description</th>\n",
              "      <th>Longitud</th>\n",
              "    </tr>\n",
              "  </thead>\n",
              "  <tbody>\n",
              "    <tr>\n",
              "      <th>0</th>\n",
              "      <td>Household</td>\n",
              "      <td>paper plane design framed wall hanging motivat...</td>\n",
              "      <td>1338</td>\n",
              "    </tr>\n",
              "    <tr>\n",
              "      <th>1</th>\n",
              "      <td>Household</td>\n",
              "      <td>saf floral framed painting wood inch x inch sp...</td>\n",
              "      <td>346</td>\n",
              "    </tr>\n",
              "    <tr>\n",
              "      <th>2</th>\n",
              "      <td>Household</td>\n",
              "      <td>saf uv textured modern art print framed painti...</td>\n",
              "      <td>1316</td>\n",
              "    </tr>\n",
              "  </tbody>\n",
              "</table>\n",
              "</div>"
            ],
            "text/plain": [
              "    Category                                        Description  Longitud\n",
              "0  Household  paper plane design framed wall hanging motivat...      1338\n",
              "1  Household  saf floral framed painting wood inch x inch sp...       346\n",
              "2  Household  saf uv textured modern art print framed painti...      1316"
            ]
          },
          "execution_count": 48,
          "metadata": {},
          "output_type": "execute_result"
        }
      ],
      "source": [
        "# Aplicamos la función al dataframe\n",
        "test_df = ecommerce_df.head(500)\n",
        "\n",
        "test_df['Description'] = test_df['Description'].apply(process_text)\n",
        "test_df.head(3)"
      ]
    },
    {
      "cell_type": "code",
      "execution_count": 49,
      "metadata": {},
      "outputs": [
        {
          "name": "stderr",
          "output_type": "stream",
          "text": [
            "/var/folders/8l/f787_tgj7sg6grwn27dvfx0h0000gn/T/ipykernel_10218/3882650866.py:1: SettingWithCopyWarning: \n",
            "A value is trying to be set on a copy of a slice from a DataFrame.\n",
            "Try using .loc[row_indexer,col_indexer] = value instead\n",
            "\n",
            "See the caveats in the documentation: https://pandas.pydata.org/pandas-docs/stable/user_guide/indexing.html#returning-a-view-versus-a-copy\n",
            "  test_df['Description'] = test_df['Description'].apply(tokenize_lemma_func)\n"
          ]
        },
        {
          "data": {
            "text/html": [
              "<div>\n",
              "<style scoped>\n",
              "    .dataframe tbody tr th:only-of-type {\n",
              "        vertical-align: middle;\n",
              "    }\n",
              "\n",
              "    .dataframe tbody tr th {\n",
              "        vertical-align: top;\n",
              "    }\n",
              "\n",
              "    .dataframe thead th {\n",
              "        text-align: right;\n",
              "    }\n",
              "</style>\n",
              "<table border=\"1\" class=\"dataframe\">\n",
              "  <thead>\n",
              "    <tr style=\"text-align: right;\">\n",
              "      <th></th>\n",
              "      <th>Category</th>\n",
              "      <th>Description</th>\n",
              "      <th>Longitud</th>\n",
              "    </tr>\n",
              "  </thead>\n",
              "  <tbody>\n",
              "    <tr>\n",
              "      <th>0</th>\n",
              "      <td>Household</td>\n",
              "      <td>[paper, plane, design, framed, wall, hanging, ...</td>\n",
              "      <td>1338</td>\n",
              "    </tr>\n",
              "    <tr>\n",
              "      <th>1</th>\n",
              "      <td>Household</td>\n",
              "      <td>[saf, floral, framed, painting, wood, inch, x,...</td>\n",
              "      <td>346</td>\n",
              "    </tr>\n",
              "    <tr>\n",
              "      <th>2</th>\n",
              "      <td>Household</td>\n",
              "      <td>[saf, uv, textured, modern, art, print, framed...</td>\n",
              "      <td>1316</td>\n",
              "    </tr>\n",
              "  </tbody>\n",
              "</table>\n",
              "</div>"
            ],
            "text/plain": [
              "    Category                                        Description  Longitud\n",
              "0  Household  [paper, plane, design, framed, wall, hanging, ...      1338\n",
              "1  Household  [saf, floral, framed, painting, wood, inch, x,...       346\n",
              "2  Household  [saf, uv, textured, modern, art, print, framed...      1316"
            ]
          },
          "execution_count": 49,
          "metadata": {},
          "output_type": "execute_result"
        }
      ],
      "source": [
        "test_df['Description'] = test_df['Description'].apply(tokenize_lemma_func)\n",
        "test_df.head(3)"
      ]
    },
    {
      "cell_type": "code",
      "execution_count": 50,
      "metadata": {},
      "outputs": [
        {
          "name": "stdout",
          "output_type": "stream",
          "text": [
            "Descripción después de tokenizar y hacer stemming:\n",
            "\n",
            "['paper', 'plane', 'design', 'framed', 'wall', 'hanging', 'motivational', 'office', 'decor', 'art', 'print', 'x', 'inch', 'set', 'painting', 'made', 'synthetic', 'frame', 'uv', 'textured', 'print', 'give', 'multi', 'effect', 'attracts', 'towards', 'special', 'series', 'painting', 'make', 'wall', 'beautiful', 'give', 'royal', 'touch', 'painting', 'ready', 'hang', 'would', 'proud', 'posse', 'unique', 'painting', 'niche', 'apart', 'use', 'modern', 'efficient', 'printing', 'technology', 'print', 'ink', 'precision', 'epson', 'roland', 'hp', 'printer', 'innovative', 'hd', 'printing', 'technique', 'result', 'durable', 'spectacular', 'looking', 'print', 'highest', 'last', 'lifetime', 'print', 'solely', 'topnotch', 'ink', 'achieve', 'brilliant', 'true', 'colour', 'due', 'high', 'level', 'uv', 'resistance', 'print', 'retain', 'beautiful', 'colour', 'many', 'year', 'add', 'colour', 'style', 'living', 'space', 'digitally', 'printed', 'painting', 'pleasure', 'eternal', 'blissso', 'bring', 'home', 'elegant', 'print', 'lushed', 'rich', 'color', 'make', 'nothing', 'sheer', 'elegance', 'friend', 'familyit', 'would', 'treasured', 'forever', 'whoever', 'lucky', 'recipient', 'liven', 'place', 'intriguing', 'painting', 'high', 'definition', 'hd', 'graphic', 'digital', 'print', 'home', 'office', 'room']\n"
          ]
        }
      ],
      "source": [
        "print(f\"Descripción después de tokenizar y hacer stemming:\\n\")\n",
        "print(test_df['Description'].iloc[0])"
      ]
    },
    {
      "cell_type": "markdown",
      "metadata": {
        "id": "bhxCkGhUKArw"
      },
      "source": [
        "# Limpieza con PySpark"
      ]
    },
    {
      "cell_type": "code",
      "execution_count": 51,
      "metadata": {
        "id": "lA9dhBl5idvz"
      },
      "outputs": [],
      "source": [
        "# Importamos librerías necesarias\n",
        "import itertools\n",
        "from pyspark.sql import SparkSession\n",
        "from pyspark.sql.functions import udf\n",
        "from pyspark.sql.types import StringType"
      ]
    },
    {
      "cell_type": "code",
      "execution_count": 52,
      "metadata": {},
      "outputs": [
        {
          "name": "stderr",
          "output_type": "stream",
          "text": [
            "Error: Missing application resource.\n",
            "\n",
            "Usage: spark-submit [options] <app jar | python file | R file> [app arguments]\n",
            "Usage: spark-submit --kill [submission ID] --master [spark://...]\n",
            "Usage: spark-submit --status [submission ID] --master [spark://...]\n",
            "Usage: spark-submit run-example [options] example-class [example args]\n",
            "\n",
            "Options:\n",
            "  --master MASTER_URL         spark://host:port, mesos://host:port, yarn,\n",
            "                              k8s://https://host:port, or local (Default: local[*]).\n",
            "  --deploy-mode DEPLOY_MODE   Whether to launch the driver program locally (\"client\") or\n",
            "                              on one of the worker machines inside the cluster (\"cluster\")\n",
            "                              (Default: client).\n",
            "  --class CLASS_NAME          Your application's main class (for Java / Scala apps).\n",
            "  --name NAME                 A name of your application.\n",
            "  --jars JARS                 Comma-separated list of jars to include on the driver\n",
            "                              and executor classpaths.\n",
            "  --packages                  Comma-separated list of maven coordinates of jars to include\n",
            "                              on the driver and executor classpaths. Will search the local\n",
            "                              maven repo, then maven central and any additional remote\n",
            "                              repositories given by --repositories. The format for the\n",
            "                              coordinates should be groupId:artifactId:version.\n",
            "  --exclude-packages          Comma-separated list of groupId:artifactId, to exclude while\n",
            "                              resolving the dependencies provided in --packages to avoid\n",
            "                              dependency conflicts.\n",
            "  --repositories              Comma-separated list of additional remote repositories to\n",
            "                              search for the maven coordinates given with --packages.\n",
            "  --py-files PY_FILES         Comma-separated list of .zip, .egg, or .py files to place\n",
            "                              on the PYTHONPATH for Python apps.\n",
            "  --files FILES               Comma-separated list of files to be placed in the working\n",
            "                              directory of each executor. File paths of these files\n",
            "                              in executors can be accessed via SparkFiles.get(fileName).\n",
            "\n",
            "  --conf, -c PROP=VALUE       Arbitrary Spark configuration property.\n",
            "  --properties-file FILE      Path to a file from which to load extra properties. If not\n",
            "                              specified, this will look for conf/spark-defaults.conf.\n",
            "\n",
            "  --driver-memory MEM         Memory for driver (e.g. 1000M, 2G) (Default: 1024M).\n",
            "  --driver-java-options       Extra Java options to pass to the driver.\n",
            "  --driver-library-path       Extra library path entries to pass to the driver.\n",
            "  --driver-class-path         Extra class path entries to pass to the driver. Note that\n",
            "                              jars added with --jars are automatically included in the\n",
            "                              classpath.\n",
            "\n",
            "  --executor-memory MEM       Memory per executor (e.g. 1000M, 2G) (Default: 1G).\n",
            "\n",
            "  --proxy-user NAME           User to impersonate when submitting the application.\n",
            "                              This argument does not work with --principal / --keytab.\n",
            "\n",
            "  --help, -h                  Show this help message and exit.\n",
            "  --verbose, -v               Print additional debug output.\n",
            "  --version,                  Print the version of current Spark.\n",
            "\n",
            " Cluster deploy mode only:\n",
            "  --driver-cores NUM          Number of cores used by the driver, only in cluster mode\n",
            "                              (Default: 1).\n",
            "\n",
            " Spark standalone or Mesos with cluster deploy mode only:\n",
            "  --supervise                 If given, restarts the driver on failure.\n",
            "\n",
            " Spark standalone, Mesos or K8s with cluster deploy mode only:\n",
            "  --kill SUBMISSION_ID        If given, kills the driver specified.\n",
            "  --status SUBMISSION_ID      If given, requests the status of the driver specified.\n",
            "\n",
            " Spark standalone, Mesos and Kubernetes only:\n",
            "  --total-executor-cores NUM  Total cores for all executors.\n",
            "\n",
            " Spark standalone, YARN and Kubernetes only:\n",
            "  --executor-cores NUM        Number of cores used by each executor. (Default: 1 in\n",
            "                              YARN and K8S modes, or all available cores on the worker\n",
            "                              in standalone mode).\n",
            "\n",
            " Spark on YARN and Kubernetes only:\n",
            "  --num-executors NUM         Number of executors to launch (Default: 2).\n",
            "                              If dynamic allocation is enabled, the initial number of\n",
            "                              executors will be at least NUM.\n",
            "  --principal PRINCIPAL       Principal to be used to login to KDC.\n",
            "  --keytab KEYTAB             The full path to the file that contains the keytab for the\n",
            "                              principal specified above.\n",
            "\n",
            " Spark on YARN only:\n",
            "  --queue QUEUE_NAME          The YARN queue to submit to (Default: \"default\").\n",
            "  --archives ARCHIVES         Comma separated list of archives to be extracted into the\n",
            "                              working directory of each executor.\n",
            "      \n"
          ]
        },
        {
          "ename": "PySparkRuntimeError",
          "evalue": "[JAVA_GATEWAY_EXITED] Java gateway process exited before sending its port number.",
          "output_type": "error",
          "traceback": [
            "\u001b[0;31m---------------------------------------------------------------------------\u001b[0m",
            "\u001b[0;31mPySparkRuntimeError\u001b[0m                       Traceback (most recent call last)",
            "\u001b[1;32m/Users/danielmalvaez/Library/CloudStorage/GoogleDrive-malvaez.axel@aries.iimas.unam.mx/My Drive/MacBook/Documentos/School/DataScience/7thSemester/MachineLearning/Proyecto/Jupyter/ML_Project.ipynb Cell 46\u001b[0m line \u001b[0;36m1\n\u001b[0;32m----> <a href='vscode-notebook-cell:/Users/danielmalvaez/Library/CloudStorage/GoogleDrive-malvaez.axel%40aries.iimas.unam.mx/My%20Drive/MacBook/Documentos/School/DataScience/7thSemester/MachineLearning/Proyecto/Jupyter/ML_Project.ipynb#X63sZmlsZQ%3D%3D?line=0'>1</a>\u001b[0m spark \u001b[39m=\u001b[39m SparkSession\u001b[39m.\u001b[39;49mbuilder\u001b[39m.\u001b[39;49mappName(\u001b[39m'\u001b[39;49m\u001b[39mML_Project\u001b[39;49m\u001b[39m'\u001b[39;49m)\u001b[39m.\u001b[39;49mgetOrCreate()\n",
            "File \u001b[0;32m~/opt/anaconda3/envs/py/lib/python3.10/site-packages/pyspark/sql/session.py:497\u001b[0m, in \u001b[0;36mSparkSession.Builder.getOrCreate\u001b[0;34m(self)\u001b[0m\n\u001b[1;32m    495\u001b[0m     sparkConf\u001b[39m.\u001b[39mset(key, value)\n\u001b[1;32m    496\u001b[0m \u001b[39m# This SparkContext may be an existing one.\u001b[39;00m\n\u001b[0;32m--> 497\u001b[0m sc \u001b[39m=\u001b[39m SparkContext\u001b[39m.\u001b[39;49mgetOrCreate(sparkConf)\n\u001b[1;32m    498\u001b[0m \u001b[39m# Do not update `SparkConf` for existing `SparkContext`, as it's shared\u001b[39;00m\n\u001b[1;32m    499\u001b[0m \u001b[39m# by all sessions.\u001b[39;00m\n\u001b[1;32m    500\u001b[0m session \u001b[39m=\u001b[39m SparkSession(sc, options\u001b[39m=\u001b[39m\u001b[39mself\u001b[39m\u001b[39m.\u001b[39m_options)\n",
            "File \u001b[0;32m~/opt/anaconda3/envs/py/lib/python3.10/site-packages/pyspark/context.py:515\u001b[0m, in \u001b[0;36mSparkContext.getOrCreate\u001b[0;34m(cls, conf)\u001b[0m\n\u001b[1;32m    513\u001b[0m \u001b[39mwith\u001b[39;00m SparkContext\u001b[39m.\u001b[39m_lock:\n\u001b[1;32m    514\u001b[0m     \u001b[39mif\u001b[39;00m SparkContext\u001b[39m.\u001b[39m_active_spark_context \u001b[39mis\u001b[39;00m \u001b[39mNone\u001b[39;00m:\n\u001b[0;32m--> 515\u001b[0m         SparkContext(conf\u001b[39m=\u001b[39;49mconf \u001b[39mor\u001b[39;49;00m SparkConf())\n\u001b[1;32m    516\u001b[0m     \u001b[39massert\u001b[39;00m SparkContext\u001b[39m.\u001b[39m_active_spark_context \u001b[39mis\u001b[39;00m \u001b[39mnot\u001b[39;00m \u001b[39mNone\u001b[39;00m\n\u001b[1;32m    517\u001b[0m     \u001b[39mreturn\u001b[39;00m SparkContext\u001b[39m.\u001b[39m_active_spark_context\n",
            "File \u001b[0;32m~/opt/anaconda3/envs/py/lib/python3.10/site-packages/pyspark/context.py:201\u001b[0m, in \u001b[0;36mSparkContext.__init__\u001b[0;34m(self, master, appName, sparkHome, pyFiles, environment, batchSize, serializer, conf, gateway, jsc, profiler_cls, udf_profiler_cls, memory_profiler_cls)\u001b[0m\n\u001b[1;32m    195\u001b[0m \u001b[39mif\u001b[39;00m gateway \u001b[39mis\u001b[39;00m \u001b[39mnot\u001b[39;00m \u001b[39mNone\u001b[39;00m \u001b[39mand\u001b[39;00m gateway\u001b[39m.\u001b[39mgateway_parameters\u001b[39m.\u001b[39mauth_token \u001b[39mis\u001b[39;00m \u001b[39mNone\u001b[39;00m:\n\u001b[1;32m    196\u001b[0m     \u001b[39mraise\u001b[39;00m \u001b[39mValueError\u001b[39;00m(\n\u001b[1;32m    197\u001b[0m         \u001b[39m\"\u001b[39m\u001b[39mYou are trying to pass an insecure Py4j gateway to Spark. This\u001b[39m\u001b[39m\"\u001b[39m\n\u001b[1;32m    198\u001b[0m         \u001b[39m\"\u001b[39m\u001b[39m is not allowed as it is a security risk.\u001b[39m\u001b[39m\"\u001b[39m\n\u001b[1;32m    199\u001b[0m     )\n\u001b[0;32m--> 201\u001b[0m SparkContext\u001b[39m.\u001b[39;49m_ensure_initialized(\u001b[39mself\u001b[39;49m, gateway\u001b[39m=\u001b[39;49mgateway, conf\u001b[39m=\u001b[39;49mconf)\n\u001b[1;32m    202\u001b[0m \u001b[39mtry\u001b[39;00m:\n\u001b[1;32m    203\u001b[0m     \u001b[39mself\u001b[39m\u001b[39m.\u001b[39m_do_init(\n\u001b[1;32m    204\u001b[0m         master,\n\u001b[1;32m    205\u001b[0m         appName,\n\u001b[0;32m   (...)\u001b[0m\n\u001b[1;32m    215\u001b[0m         memory_profiler_cls,\n\u001b[1;32m    216\u001b[0m     )\n",
            "File \u001b[0;32m~/opt/anaconda3/envs/py/lib/python3.10/site-packages/pyspark/context.py:436\u001b[0m, in \u001b[0;36mSparkContext._ensure_initialized\u001b[0;34m(cls, instance, gateway, conf)\u001b[0m\n\u001b[1;32m    434\u001b[0m \u001b[39mwith\u001b[39;00m SparkContext\u001b[39m.\u001b[39m_lock:\n\u001b[1;32m    435\u001b[0m     \u001b[39mif\u001b[39;00m \u001b[39mnot\u001b[39;00m SparkContext\u001b[39m.\u001b[39m_gateway:\n\u001b[0;32m--> 436\u001b[0m         SparkContext\u001b[39m.\u001b[39m_gateway \u001b[39m=\u001b[39m gateway \u001b[39mor\u001b[39;00m launch_gateway(conf)\n\u001b[1;32m    437\u001b[0m         SparkContext\u001b[39m.\u001b[39m_jvm \u001b[39m=\u001b[39m SparkContext\u001b[39m.\u001b[39m_gateway\u001b[39m.\u001b[39mjvm\n\u001b[1;32m    439\u001b[0m     \u001b[39mif\u001b[39;00m instance:\n",
            "File \u001b[0;32m~/opt/anaconda3/envs/py/lib/python3.10/site-packages/pyspark/java_gateway.py:107\u001b[0m, in \u001b[0;36mlaunch_gateway\u001b[0;34m(conf, popen_kwargs)\u001b[0m\n\u001b[1;32m    104\u001b[0m     time\u001b[39m.\u001b[39msleep(\u001b[39m0.1\u001b[39m)\n\u001b[1;32m    106\u001b[0m \u001b[39mif\u001b[39;00m \u001b[39mnot\u001b[39;00m os\u001b[39m.\u001b[39mpath\u001b[39m.\u001b[39misfile(conn_info_file):\n\u001b[0;32m--> 107\u001b[0m     \u001b[39mraise\u001b[39;00m PySparkRuntimeError(\n\u001b[1;32m    108\u001b[0m         error_class\u001b[39m=\u001b[39m\u001b[39m\"\u001b[39m\u001b[39mJAVA_GATEWAY_EXITED\u001b[39m\u001b[39m\"\u001b[39m,\n\u001b[1;32m    109\u001b[0m         message_parameters\u001b[39m=\u001b[39m{},\n\u001b[1;32m    110\u001b[0m     )\n\u001b[1;32m    112\u001b[0m \u001b[39mwith\u001b[39;00m \u001b[39mopen\u001b[39m(conn_info_file, \u001b[39m\"\u001b[39m\u001b[39mrb\u001b[39m\u001b[39m\"\u001b[39m) \u001b[39mas\u001b[39;00m info:\n\u001b[1;32m    113\u001b[0m     gateway_port \u001b[39m=\u001b[39m read_int(info)\n",
            "\u001b[0;31mPySparkRuntimeError\u001b[0m: [JAVA_GATEWAY_EXITED] Java gateway process exited before sending its port number."
          ]
        }
      ],
      "source": [
        "spark = SparkSession.builder.appName('ML_Project').getOrCreate()"
      ]
    },
    {
      "cell_type": "code",
      "execution_count": null,
      "metadata": {
        "id": "pLfFfR_4c5of"
      },
      "outputs": [],
      "source": [
        "# Creamos una SparkSession\n",
        "spark = SparkSession.builder \\\n",
        "    .master(\"local[1]\") \\\n",
        "    .appName(\"ProjectSparkML_.com\") \\\n",
        "    .getOrCreate()"
      ]
    },
    {
      "cell_type": "code",
      "execution_count": null,
      "metadata": {
        "colab": {
          "base_uri": "https://localhost:8080/"
        },
        "id": "qXKYESYIfuaW",
        "outputId": "d94d667e-b9b5-41c9-c933-efd66b933b01"
      },
      "outputs": [],
      "source": [
        "# Creamos un DataFrame en Spark\n",
        "ecommerceDF = spark.createDataFrame(ecommerce_df)\n",
        "ecommerceDF.printSchema()\n",
        "ecommerceDF.show()"
      ]
    },
    {
      "cell_type": "code",
      "execution_count": null,
      "metadata": {
        "id": "DIdChJ6MfQ9W"
      },
      "outputs": [],
      "source": [
        "# Creamos UDFs de las funciones process_text y tokenize_stemming_func\n",
        "process_text_udf = udf(process_text, StringType())\n",
        "tokenize_stemming_udf = udf(tokenize_stemming_func, StringType())"
      ]
    },
    {
      "cell_type": "code",
      "execution_count": null,
      "metadata": {
        "id": "YBeojWymdWzN"
      },
      "outputs": [],
      "source": [
        "# Pasamos las UDFs al DataFrame\n",
        "ecommerceDF = ecommerceDF.withColumn(\"processed_description\",\n",
        "                                     process_text_udf(ecommerceDF[\"Description\"]))\n",
        "ecommerceDF = ecommerceDF.withColumn(\"stemming_description\",\n",
        "                                     tokenize_stemming_udf(ecommerceDF[\"processed_description\"]))"
      ]
    },
    {
      "cell_type": "code",
      "execution_count": null,
      "metadata": {
        "colab": {
          "base_uri": "https://localhost:8080/"
        },
        "id": "xyovaTyZeI0E",
        "outputId": "718cca2f-eeca-4d17-9f7c-97a31d9e0293"
      },
      "outputs": [],
      "source": [
        "ecommerceDF.show()"
      ]
    }
  ],
  "metadata": {
    "colab": {
      "collapsed_sections": [
        "krYCLvPPGxgv",
        "0_7H2N49GzcZ"
      ],
      "provenance": []
    },
    "kernelspec": {
      "display_name": "Python 3",
      "name": "python3"
    },
    "language_info": {
      "codemirror_mode": {
        "name": "ipython",
        "version": 3
      },
      "file_extension": ".py",
      "mimetype": "text/x-python",
      "name": "python",
      "nbconvert_exporter": "python",
      "pygments_lexer": "ipython3",
      "version": "3.10.11"
    }
  },
  "nbformat": 4,
  "nbformat_minor": 0
}
